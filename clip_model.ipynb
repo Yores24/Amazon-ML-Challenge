{
  "nbformat": 4,
  "nbformat_minor": 0,
  "metadata": {
    "colab": {
      "provenance": []
    },
    "kernelspec": {
      "name": "python3",
      "display_name": "Python 3"
    },
    "language_info": {
      "name": "python"
    }
  },
  "cells": [
    {
      "cell_type": "code",
      "execution_count": 1,
      "metadata": {
        "id": "VMNihSDXfZWw"
      },
      "outputs": [],
      "source": [
        "import pandas as pd\n",
        "import numpy as np"
      ]
    },
    {
      "cell_type": "code",
      "source": [
        "df= pd.read_csv('/content/Data_with_description_9444.csv')"
      ],
      "metadata": {
        "id": "zGL_c1-yfhQ8"
      },
      "execution_count": 2,
      "outputs": []
    },
    {
      "cell_type": "code",
      "source": [
        "df.head()"
      ],
      "metadata": {
        "colab": {
          "base_uri": "https://localhost:8080/",
          "height": 206
        },
        "id": "JPPzxvTefmN8",
        "outputId": "de892694-5e06-4c32-bea3-b5d45c78957d"
      },
      "execution_count": 3,
      "outputs": [
        {
          "output_type": "execute_result",
          "data": {
            "text/plain": [
              "                                          image_link  group_id entity_name  \\\n",
              "0  https://m.media-amazon.com/images/I/51tZoSQjQZ...    101697       width   \n",
              "1  https://m.media-amazon.com/images/I/612f4sf+uM...    101697       depth   \n",
              "2  https://m.media-amazon.com/images/I/619S00V9Wp...    101697       depth   \n",
              "3  https://m.media-amazon.com/images/I/51iQwQjQ+7...    101697       width   \n",
              "4  https://m.media-amazon.com/images/I/514j9sXE6S...    101697       depth   \n",
              "\n",
              "      entity_value                                        description  \n",
              "0  40.0 centimetre                                        50 cm 40 cm  \n",
              "1        28.0 inch   Thicker than Others Others Ours 0.4mm 1mm Lar...  \n",
              "2  20.0 centimetre           TALLAGRANDE 7.8/20cm 2\"/5cm 6.89\"/17.5cm  \n",
              "3         5.0 inch      Happy Birthday! 4n 5\" 6\" uL 8\" 9\" 10\" 11\" 12\"  \n",
              "4  27.2 centimetre                        23.3cm/9.17in 27.2cm/10.7in  "
            ],
            "text/html": [
              "\n",
              "  <div id=\"df-db5dea03-24f6-4209-889e-f1280c04fa1a\" class=\"colab-df-container\">\n",
              "    <div>\n",
              "<style scoped>\n",
              "    .dataframe tbody tr th:only-of-type {\n",
              "        vertical-align: middle;\n",
              "    }\n",
              "\n",
              "    .dataframe tbody tr th {\n",
              "        vertical-align: top;\n",
              "    }\n",
              "\n",
              "    .dataframe thead th {\n",
              "        text-align: right;\n",
              "    }\n",
              "</style>\n",
              "<table border=\"1\" class=\"dataframe\">\n",
              "  <thead>\n",
              "    <tr style=\"text-align: right;\">\n",
              "      <th></th>\n",
              "      <th>image_link</th>\n",
              "      <th>group_id</th>\n",
              "      <th>entity_name</th>\n",
              "      <th>entity_value</th>\n",
              "      <th>description</th>\n",
              "    </tr>\n",
              "  </thead>\n",
              "  <tbody>\n",
              "    <tr>\n",
              "      <th>0</th>\n",
              "      <td>https://m.media-amazon.com/images/I/51tZoSQjQZ...</td>\n",
              "      <td>101697</td>\n",
              "      <td>width</td>\n",
              "      <td>40.0 centimetre</td>\n",
              "      <td>50 cm 40 cm</td>\n",
              "    </tr>\n",
              "    <tr>\n",
              "      <th>1</th>\n",
              "      <td>https://m.media-amazon.com/images/I/612f4sf+uM...</td>\n",
              "      <td>101697</td>\n",
              "      <td>depth</td>\n",
              "      <td>28.0 inch</td>\n",
              "      <td>Thicker than Others Others Ours 0.4mm 1mm Lar...</td>\n",
              "    </tr>\n",
              "    <tr>\n",
              "      <th>2</th>\n",
              "      <td>https://m.media-amazon.com/images/I/619S00V9Wp...</td>\n",
              "      <td>101697</td>\n",
              "      <td>depth</td>\n",
              "      <td>20.0 centimetre</td>\n",
              "      <td>TALLAGRANDE 7.8/20cm 2\"/5cm 6.89\"/17.5cm</td>\n",
              "    </tr>\n",
              "    <tr>\n",
              "      <th>3</th>\n",
              "      <td>https://m.media-amazon.com/images/I/51iQwQjQ+7...</td>\n",
              "      <td>101697</td>\n",
              "      <td>width</td>\n",
              "      <td>5.0 inch</td>\n",
              "      <td>Happy Birthday! 4n 5\" 6\" uL 8\" 9\" 10\" 11\" 12\"</td>\n",
              "    </tr>\n",
              "    <tr>\n",
              "      <th>4</th>\n",
              "      <td>https://m.media-amazon.com/images/I/514j9sXE6S...</td>\n",
              "      <td>101697</td>\n",
              "      <td>depth</td>\n",
              "      <td>27.2 centimetre</td>\n",
              "      <td>23.3cm/9.17in 27.2cm/10.7in</td>\n",
              "    </tr>\n",
              "  </tbody>\n",
              "</table>\n",
              "</div>\n",
              "    <div class=\"colab-df-buttons\">\n",
              "\n",
              "  <div class=\"colab-df-container\">\n",
              "    <button class=\"colab-df-convert\" onclick=\"convertToInteractive('df-db5dea03-24f6-4209-889e-f1280c04fa1a')\"\n",
              "            title=\"Convert this dataframe to an interactive table.\"\n",
              "            style=\"display:none;\">\n",
              "\n",
              "  <svg xmlns=\"http://www.w3.org/2000/svg\" height=\"24px\" viewBox=\"0 -960 960 960\">\n",
              "    <path d=\"M120-120v-720h720v720H120Zm60-500h600v-160H180v160Zm220 220h160v-160H400v160Zm0 220h160v-160H400v160ZM180-400h160v-160H180v160Zm440 0h160v-160H620v160ZM180-180h160v-160H180v160Zm440 0h160v-160H620v160Z\"/>\n",
              "  </svg>\n",
              "    </button>\n",
              "\n",
              "  <style>\n",
              "    .colab-df-container {\n",
              "      display:flex;\n",
              "      gap: 12px;\n",
              "    }\n",
              "\n",
              "    .colab-df-convert {\n",
              "      background-color: #E8F0FE;\n",
              "      border: none;\n",
              "      border-radius: 50%;\n",
              "      cursor: pointer;\n",
              "      display: none;\n",
              "      fill: #1967D2;\n",
              "      height: 32px;\n",
              "      padding: 0 0 0 0;\n",
              "      width: 32px;\n",
              "    }\n",
              "\n",
              "    .colab-df-convert:hover {\n",
              "      background-color: #E2EBFA;\n",
              "      box-shadow: 0px 1px 2px rgba(60, 64, 67, 0.3), 0px 1px 3px 1px rgba(60, 64, 67, 0.15);\n",
              "      fill: #174EA6;\n",
              "    }\n",
              "\n",
              "    .colab-df-buttons div {\n",
              "      margin-bottom: 4px;\n",
              "    }\n",
              "\n",
              "    [theme=dark] .colab-df-convert {\n",
              "      background-color: #3B4455;\n",
              "      fill: #D2E3FC;\n",
              "    }\n",
              "\n",
              "    [theme=dark] .colab-df-convert:hover {\n",
              "      background-color: #434B5C;\n",
              "      box-shadow: 0px 1px 3px 1px rgba(0, 0, 0, 0.15);\n",
              "      filter: drop-shadow(0px 1px 2px rgba(0, 0, 0, 0.3));\n",
              "      fill: #FFFFFF;\n",
              "    }\n",
              "  </style>\n",
              "\n",
              "    <script>\n",
              "      const buttonEl =\n",
              "        document.querySelector('#df-db5dea03-24f6-4209-889e-f1280c04fa1a button.colab-df-convert');\n",
              "      buttonEl.style.display =\n",
              "        google.colab.kernel.accessAllowed ? 'block' : 'none';\n",
              "\n",
              "      async function convertToInteractive(key) {\n",
              "        const element = document.querySelector('#df-db5dea03-24f6-4209-889e-f1280c04fa1a');\n",
              "        const dataTable =\n",
              "          await google.colab.kernel.invokeFunction('convertToInteractive',\n",
              "                                                    [key], {});\n",
              "        if (!dataTable) return;\n",
              "\n",
              "        const docLinkHtml = 'Like what you see? Visit the ' +\n",
              "          '<a target=\"_blank\" href=https://colab.research.google.com/notebooks/data_table.ipynb>data table notebook</a>'\n",
              "          + ' to learn more about interactive tables.';\n",
              "        element.innerHTML = '';\n",
              "        dataTable['output_type'] = 'display_data';\n",
              "        await google.colab.output.renderOutput(dataTable, element);\n",
              "        const docLink = document.createElement('div');\n",
              "        docLink.innerHTML = docLinkHtml;\n",
              "        element.appendChild(docLink);\n",
              "      }\n",
              "    </script>\n",
              "  </div>\n",
              "\n",
              "\n",
              "<div id=\"df-94d09340-9442-449d-a31b-d7899f0d13c2\">\n",
              "  <button class=\"colab-df-quickchart\" onclick=\"quickchart('df-94d09340-9442-449d-a31b-d7899f0d13c2')\"\n",
              "            title=\"Suggest charts\"\n",
              "            style=\"display:none;\">\n",
              "\n",
              "<svg xmlns=\"http://www.w3.org/2000/svg\" height=\"24px\"viewBox=\"0 0 24 24\"\n",
              "     width=\"24px\">\n",
              "    <g>\n",
              "        <path d=\"M19 3H5c-1.1 0-2 .9-2 2v14c0 1.1.9 2 2 2h14c1.1 0 2-.9 2-2V5c0-1.1-.9-2-2-2zM9 17H7v-7h2v7zm4 0h-2V7h2v10zm4 0h-2v-4h2v4z\"/>\n",
              "    </g>\n",
              "</svg>\n",
              "  </button>\n",
              "\n",
              "<style>\n",
              "  .colab-df-quickchart {\n",
              "      --bg-color: #E8F0FE;\n",
              "      --fill-color: #1967D2;\n",
              "      --hover-bg-color: #E2EBFA;\n",
              "      --hover-fill-color: #174EA6;\n",
              "      --disabled-fill-color: #AAA;\n",
              "      --disabled-bg-color: #DDD;\n",
              "  }\n",
              "\n",
              "  [theme=dark] .colab-df-quickchart {\n",
              "      --bg-color: #3B4455;\n",
              "      --fill-color: #D2E3FC;\n",
              "      --hover-bg-color: #434B5C;\n",
              "      --hover-fill-color: #FFFFFF;\n",
              "      --disabled-bg-color: #3B4455;\n",
              "      --disabled-fill-color: #666;\n",
              "  }\n",
              "\n",
              "  .colab-df-quickchart {\n",
              "    background-color: var(--bg-color);\n",
              "    border: none;\n",
              "    border-radius: 50%;\n",
              "    cursor: pointer;\n",
              "    display: none;\n",
              "    fill: var(--fill-color);\n",
              "    height: 32px;\n",
              "    padding: 0;\n",
              "    width: 32px;\n",
              "  }\n",
              "\n",
              "  .colab-df-quickchart:hover {\n",
              "    background-color: var(--hover-bg-color);\n",
              "    box-shadow: 0 1px 2px rgba(60, 64, 67, 0.3), 0 1px 3px 1px rgba(60, 64, 67, 0.15);\n",
              "    fill: var(--button-hover-fill-color);\n",
              "  }\n",
              "\n",
              "  .colab-df-quickchart-complete:disabled,\n",
              "  .colab-df-quickchart-complete:disabled:hover {\n",
              "    background-color: var(--disabled-bg-color);\n",
              "    fill: var(--disabled-fill-color);\n",
              "    box-shadow: none;\n",
              "  }\n",
              "\n",
              "  .colab-df-spinner {\n",
              "    border: 2px solid var(--fill-color);\n",
              "    border-color: transparent;\n",
              "    border-bottom-color: var(--fill-color);\n",
              "    animation:\n",
              "      spin 1s steps(1) infinite;\n",
              "  }\n",
              "\n",
              "  @keyframes spin {\n",
              "    0% {\n",
              "      border-color: transparent;\n",
              "      border-bottom-color: var(--fill-color);\n",
              "      border-left-color: var(--fill-color);\n",
              "    }\n",
              "    20% {\n",
              "      border-color: transparent;\n",
              "      border-left-color: var(--fill-color);\n",
              "      border-top-color: var(--fill-color);\n",
              "    }\n",
              "    30% {\n",
              "      border-color: transparent;\n",
              "      border-left-color: var(--fill-color);\n",
              "      border-top-color: var(--fill-color);\n",
              "      border-right-color: var(--fill-color);\n",
              "    }\n",
              "    40% {\n",
              "      border-color: transparent;\n",
              "      border-right-color: var(--fill-color);\n",
              "      border-top-color: var(--fill-color);\n",
              "    }\n",
              "    60% {\n",
              "      border-color: transparent;\n",
              "      border-right-color: var(--fill-color);\n",
              "    }\n",
              "    80% {\n",
              "      border-color: transparent;\n",
              "      border-right-color: var(--fill-color);\n",
              "      border-bottom-color: var(--fill-color);\n",
              "    }\n",
              "    90% {\n",
              "      border-color: transparent;\n",
              "      border-bottom-color: var(--fill-color);\n",
              "    }\n",
              "  }\n",
              "</style>\n",
              "\n",
              "  <script>\n",
              "    async function quickchart(key) {\n",
              "      const quickchartButtonEl =\n",
              "        document.querySelector('#' + key + ' button');\n",
              "      quickchartButtonEl.disabled = true;  // To prevent multiple clicks.\n",
              "      quickchartButtonEl.classList.add('colab-df-spinner');\n",
              "      try {\n",
              "        const charts = await google.colab.kernel.invokeFunction(\n",
              "            'suggestCharts', [key], {});\n",
              "      } catch (error) {\n",
              "        console.error('Error during call to suggestCharts:', error);\n",
              "      }\n",
              "      quickchartButtonEl.classList.remove('colab-df-spinner');\n",
              "      quickchartButtonEl.classList.add('colab-df-quickchart-complete');\n",
              "    }\n",
              "    (() => {\n",
              "      let quickchartButtonEl =\n",
              "        document.querySelector('#df-94d09340-9442-449d-a31b-d7899f0d13c2 button');\n",
              "      quickchartButtonEl.style.display =\n",
              "        google.colab.kernel.accessAllowed ? 'block' : 'none';\n",
              "    })();\n",
              "  </script>\n",
              "</div>\n",
              "\n",
              "    </div>\n",
              "  </div>\n"
            ],
            "application/vnd.google.colaboratory.intrinsic+json": {
              "type": "dataframe",
              "variable_name": "df",
              "summary": "{\n  \"name\": \"df\",\n  \"rows\": 11031,\n  \"fields\": [\n    {\n      \"column\": \"image_link\",\n      \"properties\": {\n        \"dtype\": \"string\",\n        \"num_unique_values\": 10637,\n        \"samples\": [\n          \"https://m.media-amazon.com/images/I/71QAdFwcm4S.jpg\",\n          \"https://m.media-amazon.com/images/I/51svwJTj9tL.jpg\",\n          \"https://m.media-amazon.com/images/I/613FiOGgY0L.jpg\"\n        ],\n        \"semantic_type\": \"\",\n        \"description\": \"\"\n      }\n    },\n    {\n      \"column\": \"group_id\",\n      \"properties\": {\n        \"dtype\": \"number\",\n        \"std\": 269271,\n        \"min\": 101697,\n        \"max\": 998545,\n        \"num_unique_values\": 750,\n        \"samples\": [\n          722930,\n          532323,\n          276688\n        ],\n        \"semantic_type\": \"\",\n        \"description\": \"\"\n      }\n    },\n    {\n      \"column\": \"entity_name\",\n      \"properties\": {\n        \"dtype\": \"category\",\n        \"num_unique_values\": 8,\n        \"samples\": [\n          \"depth\",\n          \"item_volume\",\n          \"width\"\n        ],\n        \"semantic_type\": \"\",\n        \"description\": \"\"\n      }\n    },\n    {\n      \"column\": \"entity_value\",\n      \"properties\": {\n        \"dtype\": \"category\",\n        \"num_unique_values\": 3047,\n        \"samples\": [\n          \"0.95 inch\",\n          \"[86.0, 265.0] volt\",\n          \"15.4 inch\"\n        ],\n        \"semantic_type\": \"\",\n        \"description\": \"\"\n      }\n    },\n    {\n      \"column\": \"description\",\n      \"properties\": {\n        \"dtype\": \"string\",\n        \"num_unique_values\": 9336,\n        \"samples\": [\n          \" 2.3mm 5mm\",\n          \" UPGRADEIC CHIP TECHNOLOGY CHINA ,heat,or burn issemble, graded r:14.8Wh /oltage:4.35V Itage:3.82V er Battery 6/6S/6SP o 33 Power Current Recovery Overcharge Temperature Protection Protection Protection Protection Protection EA+E < Electromagnetic Short Circuit Cell Output Overvoltage Input Overvoltage Field Protection Protection Protection Protection Protection\",\n          \" Portable and easy to storage 6.5inch 3.54inch iPhone13\"\n        ],\n        \"semantic_type\": \"\",\n        \"description\": \"\"\n      }\n    }\n  ]\n}"
            }
          },
          "metadata": {},
          "execution_count": 3
        }
      ]
    },
    {
      "cell_type": "code",
      "source": [
        "df.info()"
      ],
      "metadata": {
        "colab": {
          "base_uri": "https://localhost:8080/"
        },
        "id": "29Q3IXBZfntf",
        "outputId": "d492fd6b-7e65-4d01-d720-375652abbbfc"
      },
      "execution_count": 4,
      "outputs": [
        {
          "output_type": "stream",
          "name": "stdout",
          "text": [
            "<class 'pandas.core.frame.DataFrame'>\n",
            "RangeIndex: 11031 entries, 0 to 11030\n",
            "Data columns (total 5 columns):\n",
            " #   Column        Non-Null Count  Dtype \n",
            "---  ------        --------------  ----- \n",
            " 0   image_link    11031 non-null  object\n",
            " 1   group_id      11031 non-null  int64 \n",
            " 2   entity_name   11031 non-null  object\n",
            " 3   entity_value  11031 non-null  object\n",
            " 4   description   9623 non-null   object\n",
            "dtypes: int64(1), object(4)\n",
            "memory usage: 431.0+ KB\n"
          ]
        }
      ]
    },
    {
      "cell_type": "code",
      "source": [
        "df.shape"
      ],
      "metadata": {
        "colab": {
          "base_uri": "https://localhost:8080/"
        },
        "id": "gkp1JBOMfw1-",
        "outputId": "46d89234-286e-4ae4-a73c-977d70ccc28b"
      },
      "execution_count": 5,
      "outputs": [
        {
          "output_type": "execute_result",
          "data": {
            "text/plain": [
              "(11031, 5)"
            ]
          },
          "metadata": {},
          "execution_count": 5
        }
      ]
    },
    {
      "cell_type": "code",
      "source": [
        "df= df.dropna()"
      ],
      "metadata": {
        "id": "nJQ51PBpfzb6"
      },
      "execution_count": 6,
      "outputs": []
    },
    {
      "cell_type": "code",
      "source": [
        "df.shape"
      ],
      "metadata": {
        "colab": {
          "base_uri": "https://localhost:8080/"
        },
        "id": "eJPY4uF6f5PO",
        "outputId": "706f9b7e-ca6c-4fae-b488-6d668a1eabf5"
      },
      "execution_count": 7,
      "outputs": [
        {
          "output_type": "execute_result",
          "data": {
            "text/plain": [
              "(9623, 5)"
            ]
          },
          "metadata": {},
          "execution_count": 7
        }
      ]
    },
    {
      "cell_type": "code",
      "source": [
        "def prepare_input(row):\n",
        "    return f\"group: image_link: {row['image_link']} {row['group_id']} entity_name: {row['entity_name']} description: {row['description']}\"\n",
        "\n",
        "df['input'] = df.apply(prepare_input, axis=1)\n",
        "df['output'] = df['entity_value']"
      ],
      "metadata": {
        "id": "lg1iWY7Jf6-V"
      },
      "execution_count": 8,
      "outputs": []
    },
    {
      "cell_type": "code",
      "source": [
        "df.head()"
      ],
      "metadata": {
        "colab": {
          "base_uri": "https://localhost:8080/",
          "height": 379
        },
        "id": "sq81K6Qtgzby",
        "outputId": "424071d8-d977-4282-92da-f6f2ac236a83"
      },
      "execution_count": 9,
      "outputs": [
        {
          "output_type": "execute_result",
          "data": {
            "text/plain": [
              "                                          image_link  group_id entity_name  \\\n",
              "0  https://m.media-amazon.com/images/I/51tZoSQjQZ...    101697       width   \n",
              "1  https://m.media-amazon.com/images/I/612f4sf+uM...    101697       depth   \n",
              "2  https://m.media-amazon.com/images/I/619S00V9Wp...    101697       depth   \n",
              "3  https://m.media-amazon.com/images/I/51iQwQjQ+7...    101697       width   \n",
              "4  https://m.media-amazon.com/images/I/514j9sXE6S...    101697       depth   \n",
              "\n",
              "      entity_value                                        description  \\\n",
              "0  40.0 centimetre                                        50 cm 40 cm   \n",
              "1        28.0 inch   Thicker than Others Others Ours 0.4mm 1mm Lar...   \n",
              "2  20.0 centimetre           TALLAGRANDE 7.8/20cm 2\"/5cm 6.89\"/17.5cm   \n",
              "3         5.0 inch      Happy Birthday! 4n 5\" 6\" uL 8\" 9\" 10\" 11\" 12\"   \n",
              "4  27.2 centimetre                        23.3cm/9.17in 27.2cm/10.7in   \n",
              "\n",
              "                                               input           output  \n",
              "0  group: image_link: https://m.media-amazon.com/...  40.0 centimetre  \n",
              "1  group: image_link: https://m.media-amazon.com/...        28.0 inch  \n",
              "2  group: image_link: https://m.media-amazon.com/...  20.0 centimetre  \n",
              "3  group: image_link: https://m.media-amazon.com/...         5.0 inch  \n",
              "4  group: image_link: https://m.media-amazon.com/...  27.2 centimetre  "
            ],
            "text/html": [
              "\n",
              "  <div id=\"df-18ab6eaf-354b-4f5e-9209-4093a7627dc9\" class=\"colab-df-container\">\n",
              "    <div>\n",
              "<style scoped>\n",
              "    .dataframe tbody tr th:only-of-type {\n",
              "        vertical-align: middle;\n",
              "    }\n",
              "\n",
              "    .dataframe tbody tr th {\n",
              "        vertical-align: top;\n",
              "    }\n",
              "\n",
              "    .dataframe thead th {\n",
              "        text-align: right;\n",
              "    }\n",
              "</style>\n",
              "<table border=\"1\" class=\"dataframe\">\n",
              "  <thead>\n",
              "    <tr style=\"text-align: right;\">\n",
              "      <th></th>\n",
              "      <th>image_link</th>\n",
              "      <th>group_id</th>\n",
              "      <th>entity_name</th>\n",
              "      <th>entity_value</th>\n",
              "      <th>description</th>\n",
              "      <th>input</th>\n",
              "      <th>output</th>\n",
              "    </tr>\n",
              "  </thead>\n",
              "  <tbody>\n",
              "    <tr>\n",
              "      <th>0</th>\n",
              "      <td>https://m.media-amazon.com/images/I/51tZoSQjQZ...</td>\n",
              "      <td>101697</td>\n",
              "      <td>width</td>\n",
              "      <td>40.0 centimetre</td>\n",
              "      <td>50 cm 40 cm</td>\n",
              "      <td>group: image_link: https://m.media-amazon.com/...</td>\n",
              "      <td>40.0 centimetre</td>\n",
              "    </tr>\n",
              "    <tr>\n",
              "      <th>1</th>\n",
              "      <td>https://m.media-amazon.com/images/I/612f4sf+uM...</td>\n",
              "      <td>101697</td>\n",
              "      <td>depth</td>\n",
              "      <td>28.0 inch</td>\n",
              "      <td>Thicker than Others Others Ours 0.4mm 1mm Lar...</td>\n",
              "      <td>group: image_link: https://m.media-amazon.com/...</td>\n",
              "      <td>28.0 inch</td>\n",
              "    </tr>\n",
              "    <tr>\n",
              "      <th>2</th>\n",
              "      <td>https://m.media-amazon.com/images/I/619S00V9Wp...</td>\n",
              "      <td>101697</td>\n",
              "      <td>depth</td>\n",
              "      <td>20.0 centimetre</td>\n",
              "      <td>TALLAGRANDE 7.8/20cm 2\"/5cm 6.89\"/17.5cm</td>\n",
              "      <td>group: image_link: https://m.media-amazon.com/...</td>\n",
              "      <td>20.0 centimetre</td>\n",
              "    </tr>\n",
              "    <tr>\n",
              "      <th>3</th>\n",
              "      <td>https://m.media-amazon.com/images/I/51iQwQjQ+7...</td>\n",
              "      <td>101697</td>\n",
              "      <td>width</td>\n",
              "      <td>5.0 inch</td>\n",
              "      <td>Happy Birthday! 4n 5\" 6\" uL 8\" 9\" 10\" 11\" 12\"</td>\n",
              "      <td>group: image_link: https://m.media-amazon.com/...</td>\n",
              "      <td>5.0 inch</td>\n",
              "    </tr>\n",
              "    <tr>\n",
              "      <th>4</th>\n",
              "      <td>https://m.media-amazon.com/images/I/514j9sXE6S...</td>\n",
              "      <td>101697</td>\n",
              "      <td>depth</td>\n",
              "      <td>27.2 centimetre</td>\n",
              "      <td>23.3cm/9.17in 27.2cm/10.7in</td>\n",
              "      <td>group: image_link: https://m.media-amazon.com/...</td>\n",
              "      <td>27.2 centimetre</td>\n",
              "    </tr>\n",
              "  </tbody>\n",
              "</table>\n",
              "</div>\n",
              "    <div class=\"colab-df-buttons\">\n",
              "\n",
              "  <div class=\"colab-df-container\">\n",
              "    <button class=\"colab-df-convert\" onclick=\"convertToInteractive('df-18ab6eaf-354b-4f5e-9209-4093a7627dc9')\"\n",
              "            title=\"Convert this dataframe to an interactive table.\"\n",
              "            style=\"display:none;\">\n",
              "\n",
              "  <svg xmlns=\"http://www.w3.org/2000/svg\" height=\"24px\" viewBox=\"0 -960 960 960\">\n",
              "    <path d=\"M120-120v-720h720v720H120Zm60-500h600v-160H180v160Zm220 220h160v-160H400v160Zm0 220h160v-160H400v160ZM180-400h160v-160H180v160Zm440 0h160v-160H620v160ZM180-180h160v-160H180v160Zm440 0h160v-160H620v160Z\"/>\n",
              "  </svg>\n",
              "    </button>\n",
              "\n",
              "  <style>\n",
              "    .colab-df-container {\n",
              "      display:flex;\n",
              "      gap: 12px;\n",
              "    }\n",
              "\n",
              "    .colab-df-convert {\n",
              "      background-color: #E8F0FE;\n",
              "      border: none;\n",
              "      border-radius: 50%;\n",
              "      cursor: pointer;\n",
              "      display: none;\n",
              "      fill: #1967D2;\n",
              "      height: 32px;\n",
              "      padding: 0 0 0 0;\n",
              "      width: 32px;\n",
              "    }\n",
              "\n",
              "    .colab-df-convert:hover {\n",
              "      background-color: #E2EBFA;\n",
              "      box-shadow: 0px 1px 2px rgba(60, 64, 67, 0.3), 0px 1px 3px 1px rgba(60, 64, 67, 0.15);\n",
              "      fill: #174EA6;\n",
              "    }\n",
              "\n",
              "    .colab-df-buttons div {\n",
              "      margin-bottom: 4px;\n",
              "    }\n",
              "\n",
              "    [theme=dark] .colab-df-convert {\n",
              "      background-color: #3B4455;\n",
              "      fill: #D2E3FC;\n",
              "    }\n",
              "\n",
              "    [theme=dark] .colab-df-convert:hover {\n",
              "      background-color: #434B5C;\n",
              "      box-shadow: 0px 1px 3px 1px rgba(0, 0, 0, 0.15);\n",
              "      filter: drop-shadow(0px 1px 2px rgba(0, 0, 0, 0.3));\n",
              "      fill: #FFFFFF;\n",
              "    }\n",
              "  </style>\n",
              "\n",
              "    <script>\n",
              "      const buttonEl =\n",
              "        document.querySelector('#df-18ab6eaf-354b-4f5e-9209-4093a7627dc9 button.colab-df-convert');\n",
              "      buttonEl.style.display =\n",
              "        google.colab.kernel.accessAllowed ? 'block' : 'none';\n",
              "\n",
              "      async function convertToInteractive(key) {\n",
              "        const element = document.querySelector('#df-18ab6eaf-354b-4f5e-9209-4093a7627dc9');\n",
              "        const dataTable =\n",
              "          await google.colab.kernel.invokeFunction('convertToInteractive',\n",
              "                                                    [key], {});\n",
              "        if (!dataTable) return;\n",
              "\n",
              "        const docLinkHtml = 'Like what you see? Visit the ' +\n",
              "          '<a target=\"_blank\" href=https://colab.research.google.com/notebooks/data_table.ipynb>data table notebook</a>'\n",
              "          + ' to learn more about interactive tables.';\n",
              "        element.innerHTML = '';\n",
              "        dataTable['output_type'] = 'display_data';\n",
              "        await google.colab.output.renderOutput(dataTable, element);\n",
              "        const docLink = document.createElement('div');\n",
              "        docLink.innerHTML = docLinkHtml;\n",
              "        element.appendChild(docLink);\n",
              "      }\n",
              "    </script>\n",
              "  </div>\n",
              "\n",
              "\n",
              "<div id=\"df-b671e582-6203-455a-a87c-007264be722f\">\n",
              "  <button class=\"colab-df-quickchart\" onclick=\"quickchart('df-b671e582-6203-455a-a87c-007264be722f')\"\n",
              "            title=\"Suggest charts\"\n",
              "            style=\"display:none;\">\n",
              "\n",
              "<svg xmlns=\"http://www.w3.org/2000/svg\" height=\"24px\"viewBox=\"0 0 24 24\"\n",
              "     width=\"24px\">\n",
              "    <g>\n",
              "        <path d=\"M19 3H5c-1.1 0-2 .9-2 2v14c0 1.1.9 2 2 2h14c1.1 0 2-.9 2-2V5c0-1.1-.9-2-2-2zM9 17H7v-7h2v7zm4 0h-2V7h2v10zm4 0h-2v-4h2v4z\"/>\n",
              "    </g>\n",
              "</svg>\n",
              "  </button>\n",
              "\n",
              "<style>\n",
              "  .colab-df-quickchart {\n",
              "      --bg-color: #E8F0FE;\n",
              "      --fill-color: #1967D2;\n",
              "      --hover-bg-color: #E2EBFA;\n",
              "      --hover-fill-color: #174EA6;\n",
              "      --disabled-fill-color: #AAA;\n",
              "      --disabled-bg-color: #DDD;\n",
              "  }\n",
              "\n",
              "  [theme=dark] .colab-df-quickchart {\n",
              "      --bg-color: #3B4455;\n",
              "      --fill-color: #D2E3FC;\n",
              "      --hover-bg-color: #434B5C;\n",
              "      --hover-fill-color: #FFFFFF;\n",
              "      --disabled-bg-color: #3B4455;\n",
              "      --disabled-fill-color: #666;\n",
              "  }\n",
              "\n",
              "  .colab-df-quickchart {\n",
              "    background-color: var(--bg-color);\n",
              "    border: none;\n",
              "    border-radius: 50%;\n",
              "    cursor: pointer;\n",
              "    display: none;\n",
              "    fill: var(--fill-color);\n",
              "    height: 32px;\n",
              "    padding: 0;\n",
              "    width: 32px;\n",
              "  }\n",
              "\n",
              "  .colab-df-quickchart:hover {\n",
              "    background-color: var(--hover-bg-color);\n",
              "    box-shadow: 0 1px 2px rgba(60, 64, 67, 0.3), 0 1px 3px 1px rgba(60, 64, 67, 0.15);\n",
              "    fill: var(--button-hover-fill-color);\n",
              "  }\n",
              "\n",
              "  .colab-df-quickchart-complete:disabled,\n",
              "  .colab-df-quickchart-complete:disabled:hover {\n",
              "    background-color: var(--disabled-bg-color);\n",
              "    fill: var(--disabled-fill-color);\n",
              "    box-shadow: none;\n",
              "  }\n",
              "\n",
              "  .colab-df-spinner {\n",
              "    border: 2px solid var(--fill-color);\n",
              "    border-color: transparent;\n",
              "    border-bottom-color: var(--fill-color);\n",
              "    animation:\n",
              "      spin 1s steps(1) infinite;\n",
              "  }\n",
              "\n",
              "  @keyframes spin {\n",
              "    0% {\n",
              "      border-color: transparent;\n",
              "      border-bottom-color: var(--fill-color);\n",
              "      border-left-color: var(--fill-color);\n",
              "    }\n",
              "    20% {\n",
              "      border-color: transparent;\n",
              "      border-left-color: var(--fill-color);\n",
              "      border-top-color: var(--fill-color);\n",
              "    }\n",
              "    30% {\n",
              "      border-color: transparent;\n",
              "      border-left-color: var(--fill-color);\n",
              "      border-top-color: var(--fill-color);\n",
              "      border-right-color: var(--fill-color);\n",
              "    }\n",
              "    40% {\n",
              "      border-color: transparent;\n",
              "      border-right-color: var(--fill-color);\n",
              "      border-top-color: var(--fill-color);\n",
              "    }\n",
              "    60% {\n",
              "      border-color: transparent;\n",
              "      border-right-color: var(--fill-color);\n",
              "    }\n",
              "    80% {\n",
              "      border-color: transparent;\n",
              "      border-right-color: var(--fill-color);\n",
              "      border-bottom-color: var(--fill-color);\n",
              "    }\n",
              "    90% {\n",
              "      border-color: transparent;\n",
              "      border-bottom-color: var(--fill-color);\n",
              "    }\n",
              "  }\n",
              "</style>\n",
              "\n",
              "  <script>\n",
              "    async function quickchart(key) {\n",
              "      const quickchartButtonEl =\n",
              "        document.querySelector('#' + key + ' button');\n",
              "      quickchartButtonEl.disabled = true;  // To prevent multiple clicks.\n",
              "      quickchartButtonEl.classList.add('colab-df-spinner');\n",
              "      try {\n",
              "        const charts = await google.colab.kernel.invokeFunction(\n",
              "            'suggestCharts', [key], {});\n",
              "      } catch (error) {\n",
              "        console.error('Error during call to suggestCharts:', error);\n",
              "      }\n",
              "      quickchartButtonEl.classList.remove('colab-df-spinner');\n",
              "      quickchartButtonEl.classList.add('colab-df-quickchart-complete');\n",
              "    }\n",
              "    (() => {\n",
              "      let quickchartButtonEl =\n",
              "        document.querySelector('#df-b671e582-6203-455a-a87c-007264be722f button');\n",
              "      quickchartButtonEl.style.display =\n",
              "        google.colab.kernel.accessAllowed ? 'block' : 'none';\n",
              "    })();\n",
              "  </script>\n",
              "</div>\n",
              "\n",
              "    </div>\n",
              "  </div>\n"
            ],
            "application/vnd.google.colaboratory.intrinsic+json": {
              "type": "dataframe",
              "variable_name": "df",
              "summary": "{\n  \"name\": \"df\",\n  \"rows\": 9623,\n  \"fields\": [\n    {\n      \"column\": \"image_link\",\n      \"properties\": {\n        \"dtype\": \"string\",\n        \"num_unique_values\": 9389,\n        \"samples\": [\n          \"https://m.media-amazon.com/images/I/51so3RRP+HL.jpg\",\n          \"https://m.media-amazon.com/images/I/616eIZD-I+L.jpg\",\n          \"https://m.media-amazon.com/images/I/61F+3duLeqL.jpg\"\n        ],\n        \"semantic_type\": \"\",\n        \"description\": \"\"\n      }\n    },\n    {\n      \"column\": \"group_id\",\n      \"properties\": {\n        \"dtype\": \"number\",\n        \"std\": 259900,\n        \"min\": 101697,\n        \"max\": 998545,\n        \"num_unique_values\": 750,\n        \"samples\": [\n          722930,\n          532323,\n          276688\n        ],\n        \"semantic_type\": \"\",\n        \"description\": \"\"\n      }\n    },\n    {\n      \"column\": \"entity_name\",\n      \"properties\": {\n        \"dtype\": \"category\",\n        \"num_unique_values\": 8,\n        \"samples\": [\n          \"depth\",\n          \"item_volume\",\n          \"width\"\n        ],\n        \"semantic_type\": \"\",\n        \"description\": \"\"\n      }\n    },\n    {\n      \"column\": \"entity_value\",\n      \"properties\": {\n        \"dtype\": \"category\",\n        \"num_unique_values\": 2725,\n        \"samples\": [\n          \"161.0 millimetre\",\n          \"225.0 millimetre\",\n          \"46.0 kilogram\"\n        ],\n        \"semantic_type\": \"\",\n        \"description\": \"\"\n      }\n    },\n    {\n      \"column\": \"description\",\n      \"properties\": {\n        \"dtype\": \"string\",\n        \"num_unique_values\": 9336,\n        \"samples\": [\n          \" 2.3mm 5mm\",\n          \" UPGRADEIC CHIP TECHNOLOGY CHINA ,heat,or burn issemble, graded r:14.8Wh /oltage:4.35V Itage:3.82V er Battery 6/6S/6SP o 33 Power Current Recovery Overcharge Temperature Protection Protection Protection Protection Protection EA+E < Electromagnetic Short Circuit Cell Output Overvoltage Input Overvoltage Field Protection Protection Protection Protection Protection\",\n          \" Portable and easy to storage 6.5inch 3.54inch iPhone13\"\n        ],\n        \"semantic_type\": \"\",\n        \"description\": \"\"\n      }\n    },\n    {\n      \"column\": \"input\",\n      \"properties\": {\n        \"dtype\": \"string\",\n        \"num_unique_values\": 9438,\n        \"samples\": [\n          \"group: image_link: https://m.media-amazon.com/images/I/71hrBT+apWL.jpg 178958 entity_name: item_weight description:  Clothes Rails Size Steel pipe diameter : 18 mm. Steel Pipe Material Specification Steel pipe thickness : 1 mm 110 cm (L)x51 cm(W)x146cm(H) Product Weight 4.2 KG Product Size 43.3 in(L) x 20.07 in (W) x 57.48 in (H) 20cm/7.87in 126cm/49.6in 51cm/20.07in 110cm/43.3in\",\n          \"group: image_link: https://m.media-amazon.com/images/I/61+OqWYr3yL.jpg 488883 entity_name: height description:  53CM 42CM 30CM\",\n          \"group: image_link: https://m.media-amazon.com/images/I/41KPiZvsNuL.jpg 424775 entity_name: depth description:  98mm 165mm 400mm\"\n        ],\n        \"semantic_type\": \"\",\n        \"description\": \"\"\n      }\n    },\n    {\n      \"column\": \"output\",\n      \"properties\": {\n        \"dtype\": \"category\",\n        \"num_unique_values\": 2725,\n        \"samples\": [\n          \"161.0 millimetre\",\n          \"225.0 millimetre\",\n          \"46.0 kilogram\"\n        ],\n        \"semantic_type\": \"\",\n        \"description\": \"\"\n      }\n    }\n  ]\n}"
            }
          },
          "metadata": {},
          "execution_count": 9
        }
      ]
    },
    {
      "cell_type": "code",
      "source": [
        "print(df['input'][0])"
      ],
      "metadata": {
        "colab": {
          "base_uri": "https://localhost:8080/"
        },
        "id": "v5NVRtr1g4B-",
        "outputId": "56423a98-da78-4d53-dcd7-88717d3293ac"
      },
      "execution_count": 10,
      "outputs": [
        {
          "output_type": "stream",
          "name": "stdout",
          "text": [
            "group: image_link: https://m.media-amazon.com/images/I/51tZoSQjQZL.jpg 101697 entity_name: width description:  50 cm 40 cm\n"
          ]
        }
      ]
    },
    {
      "cell_type": "code",
      "source": [
        "!pip install datasets"
      ],
      "metadata": {
        "colab": {
          "base_uri": "https://localhost:8080/"
        },
        "id": "cVGYcD5fhPr2",
        "outputId": "435f6eb0-df52-4f98-bc87-233b178f514a"
      },
      "execution_count": 11,
      "outputs": [
        {
          "output_type": "stream",
          "name": "stdout",
          "text": [
            "Requirement already satisfied: datasets in /usr/local/lib/python3.10/dist-packages (3.0.0)\n",
            "Requirement already satisfied: filelock in /usr/local/lib/python3.10/dist-packages (from datasets) (3.16.0)\n",
            "Requirement already satisfied: numpy>=1.17 in /usr/local/lib/python3.10/dist-packages (from datasets) (1.26.4)\n",
            "Requirement already satisfied: pyarrow>=15.0.0 in /usr/local/lib/python3.10/dist-packages (from datasets) (17.0.0)\n",
            "Requirement already satisfied: dill<0.3.9,>=0.3.0 in /usr/local/lib/python3.10/dist-packages (from datasets) (0.3.8)\n",
            "Requirement already satisfied: pandas in /usr/local/lib/python3.10/dist-packages (from datasets) (2.1.4)\n",
            "Requirement already satisfied: requests>=2.32.2 in /usr/local/lib/python3.10/dist-packages (from datasets) (2.32.3)\n",
            "Requirement already satisfied: tqdm>=4.66.3 in /usr/local/lib/python3.10/dist-packages (from datasets) (4.66.5)\n",
            "Requirement already satisfied: xxhash in /usr/local/lib/python3.10/dist-packages (from datasets) (3.5.0)\n",
            "Requirement already satisfied: multiprocess in /usr/local/lib/python3.10/dist-packages (from datasets) (0.70.16)\n",
            "Requirement already satisfied: fsspec<=2024.6.1,>=2023.1.0 in /usr/local/lib/python3.10/dist-packages (from fsspec[http]<=2024.6.1,>=2023.1.0->datasets) (2024.6.1)\n",
            "Requirement already satisfied: aiohttp in /usr/local/lib/python3.10/dist-packages (from datasets) (3.10.5)\n",
            "Requirement already satisfied: huggingface-hub>=0.22.0 in /usr/local/lib/python3.10/dist-packages (from datasets) (0.24.6)\n",
            "Requirement already satisfied: packaging in /usr/local/lib/python3.10/dist-packages (from datasets) (24.1)\n",
            "Requirement already satisfied: pyyaml>=5.1 in /usr/local/lib/python3.10/dist-packages (from datasets) (6.0.2)\n",
            "Requirement already satisfied: aiohappyeyeballs>=2.3.0 in /usr/local/lib/python3.10/dist-packages (from aiohttp->datasets) (2.4.0)\n",
            "Requirement already satisfied: aiosignal>=1.1.2 in /usr/local/lib/python3.10/dist-packages (from aiohttp->datasets) (1.3.1)\n",
            "Requirement already satisfied: attrs>=17.3.0 in /usr/local/lib/python3.10/dist-packages (from aiohttp->datasets) (24.2.0)\n",
            "Requirement already satisfied: frozenlist>=1.1.1 in /usr/local/lib/python3.10/dist-packages (from aiohttp->datasets) (1.4.1)\n",
            "Requirement already satisfied: multidict<7.0,>=4.5 in /usr/local/lib/python3.10/dist-packages (from aiohttp->datasets) (6.1.0)\n",
            "Requirement already satisfied: yarl<2.0,>=1.0 in /usr/local/lib/python3.10/dist-packages (from aiohttp->datasets) (1.11.1)\n",
            "Requirement already satisfied: async-timeout<5.0,>=4.0 in /usr/local/lib/python3.10/dist-packages (from aiohttp->datasets) (4.0.3)\n",
            "Requirement already satisfied: typing-extensions>=3.7.4.3 in /usr/local/lib/python3.10/dist-packages (from huggingface-hub>=0.22.0->datasets) (4.12.2)\n",
            "Requirement already satisfied: charset-normalizer<4,>=2 in /usr/local/lib/python3.10/dist-packages (from requests>=2.32.2->datasets) (3.3.2)\n",
            "Requirement already satisfied: idna<4,>=2.5 in /usr/local/lib/python3.10/dist-packages (from requests>=2.32.2->datasets) (3.8)\n",
            "Requirement already satisfied: urllib3<3,>=1.21.1 in /usr/local/lib/python3.10/dist-packages (from requests>=2.32.2->datasets) (2.0.7)\n",
            "Requirement already satisfied: certifi>=2017.4.17 in /usr/local/lib/python3.10/dist-packages (from requests>=2.32.2->datasets) (2024.8.30)\n",
            "Requirement already satisfied: python-dateutil>=2.8.2 in /usr/local/lib/python3.10/dist-packages (from pandas->datasets) (2.8.2)\n",
            "Requirement already satisfied: pytz>=2020.1 in /usr/local/lib/python3.10/dist-packages (from pandas->datasets) (2024.2)\n",
            "Requirement already satisfied: tzdata>=2022.1 in /usr/local/lib/python3.10/dist-packages (from pandas->datasets) (2024.1)\n",
            "Requirement already satisfied: six>=1.5 in /usr/local/lib/python3.10/dist-packages (from python-dateutil>=2.8.2->pandas->datasets) (1.16.0)\n"
          ]
        }
      ]
    },
    {
      "cell_type": "code",
      "source": [
        "from transformers import AutoTokenizer, AutoModelForSeq2SeqLM\n",
        "from sklearn.model_selection import train_test_split\n",
        "from datasets import Dataset"
      ],
      "metadata": {
        "id": "_XAyMQQAhLtw"
      },
      "execution_count": 12,
      "outputs": []
    },
    {
      "cell_type": "code",
      "source": [
        "train_df, val_df = train_test_split(df, test_size=0.2, random_state=42)"
      ],
      "metadata": {
        "id": "zRHQLfhog9ZP"
      },
      "execution_count": 13,
      "outputs": []
    },
    {
      "cell_type": "code",
      "source": [
        "!pip install torch\n",
        "!pip install tqdm"
      ],
      "metadata": {
        "colab": {
          "base_uri": "https://localhost:8080/"
        },
        "id": "kHygP4LXhnzk",
        "outputId": "720d5e2e-b86f-4c1b-c4f6-5828c475e6b2"
      },
      "execution_count": 14,
      "outputs": [
        {
          "output_type": "stream",
          "name": "stdout",
          "text": [
            "Requirement already satisfied: torch in /usr/local/lib/python3.10/dist-packages (2.4.0+cu121)\n",
            "Requirement already satisfied: filelock in /usr/local/lib/python3.10/dist-packages (from torch) (3.16.0)\n",
            "Requirement already satisfied: typing-extensions>=4.8.0 in /usr/local/lib/python3.10/dist-packages (from torch) (4.12.2)\n",
            "Requirement already satisfied: sympy in /usr/local/lib/python3.10/dist-packages (from torch) (1.13.2)\n",
            "Requirement already satisfied: networkx in /usr/local/lib/python3.10/dist-packages (from torch) (3.3)\n",
            "Requirement already satisfied: jinja2 in /usr/local/lib/python3.10/dist-packages (from torch) (3.1.4)\n",
            "Requirement already satisfied: fsspec in /usr/local/lib/python3.10/dist-packages (from torch) (2024.6.1)\n",
            "Requirement already satisfied: MarkupSafe>=2.0 in /usr/local/lib/python3.10/dist-packages (from jinja2->torch) (2.1.5)\n",
            "Requirement already satisfied: mpmath<1.4,>=1.1.0 in /usr/local/lib/python3.10/dist-packages (from sympy->torch) (1.3.0)\n",
            "Requirement already satisfied: tqdm in /usr/local/lib/python3.10/dist-packages (4.66.5)\n"
          ]
        }
      ]
    },
    {
      "cell_type": "code",
      "source": [
        "!pip install openai-clip"
      ],
      "metadata": {
        "colab": {
          "base_uri": "https://localhost:8080/"
        },
        "id": "dn2Qe5qVhsl2",
        "outputId": "0154727b-6121-4c79-b15a-7198eacc588c"
      },
      "execution_count": 15,
      "outputs": [
        {
          "output_type": "stream",
          "name": "stdout",
          "text": [
            "Collecting openai-clip\n",
            "  Downloading openai-clip-1.0.1.tar.gz (1.4 MB)\n",
            "\u001b[2K     \u001b[90m━━━━━━━━━━━━━━━━━━━━━━━━━━━━━━━━━━━━━━━━\u001b[0m \u001b[32m1.4/1.4 MB\u001b[0m \u001b[31m4.9 MB/s\u001b[0m eta \u001b[36m0:00:00\u001b[0m\n",
            "\u001b[?25h  Preparing metadata (setup.py) ... \u001b[?25l\u001b[?25hdone\n",
            "Collecting ftfy (from openai-clip)\n",
            "  Downloading ftfy-6.2.3-py3-none-any.whl.metadata (7.8 kB)\n",
            "Requirement already satisfied: regex in /usr/local/lib/python3.10/dist-packages (from openai-clip) (2024.5.15)\n",
            "Requirement already satisfied: tqdm in /usr/local/lib/python3.10/dist-packages (from openai-clip) (4.66.5)\n",
            "Requirement already satisfied: wcwidth<0.3.0,>=0.2.12 in /usr/local/lib/python3.10/dist-packages (from ftfy->openai-clip) (0.2.13)\n",
            "Downloading ftfy-6.2.3-py3-none-any.whl (43 kB)\n",
            "\u001b[2K   \u001b[90m━━━━━━━━━━━━━━━━━━━━━━━━━━━━━━━━━━━━━━━━\u001b[0m \u001b[32m43.0/43.0 kB\u001b[0m \u001b[31m2.3 MB/s\u001b[0m eta \u001b[36m0:00:00\u001b[0m\n",
            "\u001b[?25hBuilding wheels for collected packages: openai-clip\n",
            "  Building wheel for openai-clip (setup.py) ... \u001b[?25l\u001b[?25hdone\n",
            "  Created wheel for openai-clip: filename=openai_clip-1.0.1-py3-none-any.whl size=1368605 sha256=7f905a97b14df21e2d3751a23768d01e0ce538c26af9fd200a4e8ca935d39ddc\n",
            "  Stored in directory: /root/.cache/pip/wheels/08/77/8e/8d2f862df6bf7fb4e2007062d2cbaeae49862ec7b56d041229\n",
            "Successfully built openai-clip\n",
            "Installing collected packages: ftfy, openai-clip\n",
            "Successfully installed ftfy-6.2.3 openai-clip-1.0.1\n"
          ]
        }
      ]
    },
    {
      "cell_type": "code",
      "source": [
        "train_dataset = Dataset.from_pandas(train_df)\n",
        "val_dataset = Dataset.from_pandas(val_df)"
      ],
      "metadata": {
        "id": "6idEPsiPhHds"
      },
      "execution_count": 16,
      "outputs": []
    },
    {
      "cell_type": "code",
      "source": [
        "train_dataset"
      ],
      "metadata": {
        "colab": {
          "base_uri": "https://localhost:8080/"
        },
        "id": "tR6sZ3VHh9Vf",
        "outputId": "b90d31e6-0fff-4bc1-a530-4378404ab3fe"
      },
      "execution_count": 17,
      "outputs": [
        {
          "output_type": "execute_result",
          "data": {
            "text/plain": [
              "Dataset({\n",
              "    features: ['image_link', 'group_id', 'entity_name', 'entity_value', 'description', 'input', 'output', '__index_level_0__'],\n",
              "    num_rows: 7698\n",
              "})"
            ]
          },
          "metadata": {},
          "execution_count": 17
        }
      ]
    },
    {
      "cell_type": "code",
      "source": [
        "import clip\n",
        "from PIL import Image\n",
        "import requests\n",
        "from io import BytesIO\n",
        "import torch\n",
        "\n",
        "# Load CLIP model\n",
        "device = \"cuda\" if torch.cuda.is_available() else \"cpu\"\n",
        "model, preprocess = clip.load(\"ViT-B/32\", device=device)\n",
        "\n",
        "def process_image(image_url):\n",
        "    # Fetch and open the image\n",
        "    response = requests.get(image_url)\n",
        "    image = Image.open(BytesIO(response.content))\n",
        "\n",
        "    # Preprocess the image for CLIP\n",
        "    image = preprocess(image).unsqueeze(0).to(device)\n",
        "\n",
        "    return image\n",
        "\n",
        "def get_clip_features(image_url):\n",
        "    image = process_image(image_url)\n",
        "    with torch.no_grad():\n",
        "        image_features = model.encode_image(image)\n",
        "    return image_features"
      ],
      "metadata": {
        "colab": {
          "base_uri": "https://localhost:8080/"
        },
        "id": "f2yPuUhQh_zb",
        "outputId": "91b4dd96-afae-4ef3-f612-18386e9799e8"
      },
      "execution_count": 19,
      "outputs": [
        {
          "output_type": "stream",
          "name": "stderr",
          "text": [
            "100%|████████████████████████████████████████| 338M/338M [00:02<00:00, 145MiB/s]\n"
          ]
        }
      ]
    },
    {
      "cell_type": "code",
      "source": [
        "from tqdm import tqdm  # Import tqdm\n",
        "\n",
        "# Initialize an empty list to store features\n",
        "features = []\n",
        "\n",
        "# Wrap df.iterrows() with tqdm to show a progress bar\n",
        "for index, row in tqdm(df.iterrows(), total=df.shape[0], desc=\"Processing Images\"):\n",
        "    image_url = row['image_link']\n",
        "    image_features = get_clip_features(image_url).cpu().numpy()\n",
        "    features.append(image_features)\n",
        "\n",
        "# Convert features to a numpy array for further use\n",
        "features = np.array(features)"
      ],
      "metadata": {
        "colab": {
          "base_uri": "https://localhost:8080/"
        },
        "id": "CWI7bBFJltPK",
        "outputId": "11cc09dd-064e-486e-d064-7a97381e595d"
      },
      "execution_count": 25,
      "outputs": [
        {
          "output_type": "stream",
          "name": "stderr",
          "text": [
            "Processing Images: 100%|██████████| 9623/9623 [1:07:57<00:00,  2.36it/s]\n"
          ]
        }
      ]
    },
    {
      "cell_type": "code",
      "source": [
        "print(features)"
      ],
      "metadata": {
        "colab": {
          "base_uri": "https://localhost:8080/"
        },
        "id": "ooaGmy8smHcO",
        "outputId": "f7b60467-9925-456e-d4de-915ed9a276d3"
      },
      "execution_count": 26,
      "outputs": [
        {
          "output_type": "stream",
          "name": "stdout",
          "text": [
            "[[[-0.14570628 -0.08404558  0.15436551 ...  0.2785492   0.20569475\n",
            "    0.31128418]]\n",
            "\n",
            " [[-0.15543391  0.4392404   0.2729646  ...  0.12671673  0.3522673\n",
            "   -0.23060213]]\n",
            "\n",
            " [[-0.7160624   0.05469434  0.18813825 ...  0.56852406 -0.21190077\n",
            "   -0.12068413]]\n",
            "\n",
            " ...\n",
            "\n",
            " [[-0.37271404  0.22358708  0.42639798 ... -0.15337807 -0.06647584\n",
            "   -0.47304824]]\n",
            "\n",
            " [[-0.41863915  0.10181977  0.02700306 ...  0.16940811 -0.23574421\n",
            "    0.23629282]]\n",
            "\n",
            " [[-0.65620655  0.11107174 -0.08637391 ...  0.32060224 -0.07590647\n",
            "    0.01823511]]]\n"
          ]
        }
      ]
    },
    {
      "cell_type": "code",
      "source": [
        "print(f\"Shape of features: {features.shape}\")"
      ],
      "metadata": {
        "colab": {
          "base_uri": "https://localhost:8080/"
        },
        "id": "tImqsEoGQ2d3",
        "outputId": "d44d169b-5430-4501-f3c6-264810704b4b"
      },
      "execution_count": 29,
      "outputs": [
        {
          "output_type": "stream",
          "name": "stdout",
          "text": [
            "Shape of features: (9623, 1, 512)\n"
          ]
        }
      ]
    },
    {
      "cell_type": "code",
      "source": [
        "if len(features.shape) == 3:\n",
        "    features = features.squeeze(1)  # Remove the redundant dimension"
      ],
      "metadata": {
        "id": "Ipg_NW_8RCXS"
      },
      "execution_count": 30,
      "outputs": []
    },
    {
      "cell_type": "code",
      "source": [
        "print(f\"Shape of features: {features.shape}\")"
      ],
      "metadata": {
        "colab": {
          "base_uri": "https://localhost:8080/"
        },
        "id": "IsAttvuQRECe",
        "outputId": "effe7ea7-bfde-4547-a2a1-70efafe902df"
      },
      "execution_count": 31,
      "outputs": [
        {
          "output_type": "stream",
          "name": "stdout",
          "text": [
            "Shape of features: (9623, 512)\n"
          ]
        }
      ]
    },
    {
      "cell_type": "code",
      "source": [
        "features_list = [feature.tolist() for feature in features]"
      ],
      "metadata": {
        "id": "v8jgl6GxRINN"
      },
      "execution_count": 32,
      "outputs": []
    },
    {
      "cell_type": "code",
      "source": [
        "df['image_features']= features_list"
      ],
      "metadata": {
        "id": "3-pi9e8yPgJ3"
      },
      "execution_count": 33,
      "outputs": []
    },
    {
      "cell_type": "code",
      "source": [
        "df.head()"
      ],
      "metadata": {
        "colab": {
          "base_uri": "https://localhost:8080/",
          "height": 466
        },
        "id": "yshKsU77PlX9",
        "outputId": "b56a2a4f-3b27-4558-c24a-24170e0d659b"
      },
      "execution_count": 34,
      "outputs": [
        {
          "output_type": "execute_result",
          "data": {
            "text/plain": [
              "                                          image_link  group_id entity_name  \\\n",
              "0  https://m.media-amazon.com/images/I/51tZoSQjQZ...    101697       width   \n",
              "1  https://m.media-amazon.com/images/I/612f4sf+uM...    101697       depth   \n",
              "2  https://m.media-amazon.com/images/I/619S00V9Wp...    101697       depth   \n",
              "3  https://m.media-amazon.com/images/I/51iQwQjQ+7...    101697       width   \n",
              "4  https://m.media-amazon.com/images/I/514j9sXE6S...    101697       depth   \n",
              "\n",
              "      entity_value                                        description  \\\n",
              "0  40.0 centimetre                                        50 cm 40 cm   \n",
              "1        28.0 inch   Thicker than Others Others Ours 0.4mm 1mm Lar...   \n",
              "2  20.0 centimetre           TALLAGRANDE 7.8/20cm 2\"/5cm 6.89\"/17.5cm   \n",
              "3         5.0 inch      Happy Birthday! 4n 5\" 6\" uL 8\" 9\" 10\" 11\" 12\"   \n",
              "4  27.2 centimetre                        23.3cm/9.17in 27.2cm/10.7in   \n",
              "\n",
              "                                               input           output  \\\n",
              "0  group: image_link: https://m.media-amazon.com/...  40.0 centimetre   \n",
              "1  group: image_link: https://m.media-amazon.com/...        28.0 inch   \n",
              "2  group: image_link: https://m.media-amazon.com/...  20.0 centimetre   \n",
              "3  group: image_link: https://m.media-amazon.com/...         5.0 inch   \n",
              "4  group: image_link: https://m.media-amazon.com/...  27.2 centimetre   \n",
              "\n",
              "                                      image_features  \n",
              "0  [-0.14570628106594086, -0.08404558151960373, 0...  \n",
              "1  [-0.15543390810489655, 0.43924039602279663, 0....  \n",
              "2  [-0.7160624265670776, 0.054694343358278275, 0....  \n",
              "3  [-0.3935025632381439, -0.07714860141277313, 0....  \n",
              "4  [-0.4455071687698364, -0.34295472502708435, 0....  "
            ],
            "text/html": [
              "\n",
              "  <div id=\"df-0519e982-444f-4c8e-a4f8-58bedde2575f\" class=\"colab-df-container\">\n",
              "    <div>\n",
              "<style scoped>\n",
              "    .dataframe tbody tr th:only-of-type {\n",
              "        vertical-align: middle;\n",
              "    }\n",
              "\n",
              "    .dataframe tbody tr th {\n",
              "        vertical-align: top;\n",
              "    }\n",
              "\n",
              "    .dataframe thead th {\n",
              "        text-align: right;\n",
              "    }\n",
              "</style>\n",
              "<table border=\"1\" class=\"dataframe\">\n",
              "  <thead>\n",
              "    <tr style=\"text-align: right;\">\n",
              "      <th></th>\n",
              "      <th>image_link</th>\n",
              "      <th>group_id</th>\n",
              "      <th>entity_name</th>\n",
              "      <th>entity_value</th>\n",
              "      <th>description</th>\n",
              "      <th>input</th>\n",
              "      <th>output</th>\n",
              "      <th>image_features</th>\n",
              "    </tr>\n",
              "  </thead>\n",
              "  <tbody>\n",
              "    <tr>\n",
              "      <th>0</th>\n",
              "      <td>https://m.media-amazon.com/images/I/51tZoSQjQZ...</td>\n",
              "      <td>101697</td>\n",
              "      <td>width</td>\n",
              "      <td>40.0 centimetre</td>\n",
              "      <td>50 cm 40 cm</td>\n",
              "      <td>group: image_link: https://m.media-amazon.com/...</td>\n",
              "      <td>40.0 centimetre</td>\n",
              "      <td>[-0.14570628106594086, -0.08404558151960373, 0...</td>\n",
              "    </tr>\n",
              "    <tr>\n",
              "      <th>1</th>\n",
              "      <td>https://m.media-amazon.com/images/I/612f4sf+uM...</td>\n",
              "      <td>101697</td>\n",
              "      <td>depth</td>\n",
              "      <td>28.0 inch</td>\n",
              "      <td>Thicker than Others Others Ours 0.4mm 1mm Lar...</td>\n",
              "      <td>group: image_link: https://m.media-amazon.com/...</td>\n",
              "      <td>28.0 inch</td>\n",
              "      <td>[-0.15543390810489655, 0.43924039602279663, 0....</td>\n",
              "    </tr>\n",
              "    <tr>\n",
              "      <th>2</th>\n",
              "      <td>https://m.media-amazon.com/images/I/619S00V9Wp...</td>\n",
              "      <td>101697</td>\n",
              "      <td>depth</td>\n",
              "      <td>20.0 centimetre</td>\n",
              "      <td>TALLAGRANDE 7.8/20cm 2\"/5cm 6.89\"/17.5cm</td>\n",
              "      <td>group: image_link: https://m.media-amazon.com/...</td>\n",
              "      <td>20.0 centimetre</td>\n",
              "      <td>[-0.7160624265670776, 0.054694343358278275, 0....</td>\n",
              "    </tr>\n",
              "    <tr>\n",
              "      <th>3</th>\n",
              "      <td>https://m.media-amazon.com/images/I/51iQwQjQ+7...</td>\n",
              "      <td>101697</td>\n",
              "      <td>width</td>\n",
              "      <td>5.0 inch</td>\n",
              "      <td>Happy Birthday! 4n 5\" 6\" uL 8\" 9\" 10\" 11\" 12\"</td>\n",
              "      <td>group: image_link: https://m.media-amazon.com/...</td>\n",
              "      <td>5.0 inch</td>\n",
              "      <td>[-0.3935025632381439, -0.07714860141277313, 0....</td>\n",
              "    </tr>\n",
              "    <tr>\n",
              "      <th>4</th>\n",
              "      <td>https://m.media-amazon.com/images/I/514j9sXE6S...</td>\n",
              "      <td>101697</td>\n",
              "      <td>depth</td>\n",
              "      <td>27.2 centimetre</td>\n",
              "      <td>23.3cm/9.17in 27.2cm/10.7in</td>\n",
              "      <td>group: image_link: https://m.media-amazon.com/...</td>\n",
              "      <td>27.2 centimetre</td>\n",
              "      <td>[-0.4455071687698364, -0.34295472502708435, 0....</td>\n",
              "    </tr>\n",
              "  </tbody>\n",
              "</table>\n",
              "</div>\n",
              "    <div class=\"colab-df-buttons\">\n",
              "\n",
              "  <div class=\"colab-df-container\">\n",
              "    <button class=\"colab-df-convert\" onclick=\"convertToInteractive('df-0519e982-444f-4c8e-a4f8-58bedde2575f')\"\n",
              "            title=\"Convert this dataframe to an interactive table.\"\n",
              "            style=\"display:none;\">\n",
              "\n",
              "  <svg xmlns=\"http://www.w3.org/2000/svg\" height=\"24px\" viewBox=\"0 -960 960 960\">\n",
              "    <path d=\"M120-120v-720h720v720H120Zm60-500h600v-160H180v160Zm220 220h160v-160H400v160Zm0 220h160v-160H400v160ZM180-400h160v-160H180v160Zm440 0h160v-160H620v160ZM180-180h160v-160H180v160Zm440 0h160v-160H620v160Z\"/>\n",
              "  </svg>\n",
              "    </button>\n",
              "\n",
              "  <style>\n",
              "    .colab-df-container {\n",
              "      display:flex;\n",
              "      gap: 12px;\n",
              "    }\n",
              "\n",
              "    .colab-df-convert {\n",
              "      background-color: #E8F0FE;\n",
              "      border: none;\n",
              "      border-radius: 50%;\n",
              "      cursor: pointer;\n",
              "      display: none;\n",
              "      fill: #1967D2;\n",
              "      height: 32px;\n",
              "      padding: 0 0 0 0;\n",
              "      width: 32px;\n",
              "    }\n",
              "\n",
              "    .colab-df-convert:hover {\n",
              "      background-color: #E2EBFA;\n",
              "      box-shadow: 0px 1px 2px rgba(60, 64, 67, 0.3), 0px 1px 3px 1px rgba(60, 64, 67, 0.15);\n",
              "      fill: #174EA6;\n",
              "    }\n",
              "\n",
              "    .colab-df-buttons div {\n",
              "      margin-bottom: 4px;\n",
              "    }\n",
              "\n",
              "    [theme=dark] .colab-df-convert {\n",
              "      background-color: #3B4455;\n",
              "      fill: #D2E3FC;\n",
              "    }\n",
              "\n",
              "    [theme=dark] .colab-df-convert:hover {\n",
              "      background-color: #434B5C;\n",
              "      box-shadow: 0px 1px 3px 1px rgba(0, 0, 0, 0.15);\n",
              "      filter: drop-shadow(0px 1px 2px rgba(0, 0, 0, 0.3));\n",
              "      fill: #FFFFFF;\n",
              "    }\n",
              "  </style>\n",
              "\n",
              "    <script>\n",
              "      const buttonEl =\n",
              "        document.querySelector('#df-0519e982-444f-4c8e-a4f8-58bedde2575f button.colab-df-convert');\n",
              "      buttonEl.style.display =\n",
              "        google.colab.kernel.accessAllowed ? 'block' : 'none';\n",
              "\n",
              "      async function convertToInteractive(key) {\n",
              "        const element = document.querySelector('#df-0519e982-444f-4c8e-a4f8-58bedde2575f');\n",
              "        const dataTable =\n",
              "          await google.colab.kernel.invokeFunction('convertToInteractive',\n",
              "                                                    [key], {});\n",
              "        if (!dataTable) return;\n",
              "\n",
              "        const docLinkHtml = 'Like what you see? Visit the ' +\n",
              "          '<a target=\"_blank\" href=https://colab.research.google.com/notebooks/data_table.ipynb>data table notebook</a>'\n",
              "          + ' to learn more about interactive tables.';\n",
              "        element.innerHTML = '';\n",
              "        dataTable['output_type'] = 'display_data';\n",
              "        await google.colab.output.renderOutput(dataTable, element);\n",
              "        const docLink = document.createElement('div');\n",
              "        docLink.innerHTML = docLinkHtml;\n",
              "        element.appendChild(docLink);\n",
              "      }\n",
              "    </script>\n",
              "  </div>\n",
              "\n",
              "\n",
              "<div id=\"df-7011fe34-bfee-442f-9b8f-47edc3d83022\">\n",
              "  <button class=\"colab-df-quickchart\" onclick=\"quickchart('df-7011fe34-bfee-442f-9b8f-47edc3d83022')\"\n",
              "            title=\"Suggest charts\"\n",
              "            style=\"display:none;\">\n",
              "\n",
              "<svg xmlns=\"http://www.w3.org/2000/svg\" height=\"24px\"viewBox=\"0 0 24 24\"\n",
              "     width=\"24px\">\n",
              "    <g>\n",
              "        <path d=\"M19 3H5c-1.1 0-2 .9-2 2v14c0 1.1.9 2 2 2h14c1.1 0 2-.9 2-2V5c0-1.1-.9-2-2-2zM9 17H7v-7h2v7zm4 0h-2V7h2v10zm4 0h-2v-4h2v4z\"/>\n",
              "    </g>\n",
              "</svg>\n",
              "  </button>\n",
              "\n",
              "<style>\n",
              "  .colab-df-quickchart {\n",
              "      --bg-color: #E8F0FE;\n",
              "      --fill-color: #1967D2;\n",
              "      --hover-bg-color: #E2EBFA;\n",
              "      --hover-fill-color: #174EA6;\n",
              "      --disabled-fill-color: #AAA;\n",
              "      --disabled-bg-color: #DDD;\n",
              "  }\n",
              "\n",
              "  [theme=dark] .colab-df-quickchart {\n",
              "      --bg-color: #3B4455;\n",
              "      --fill-color: #D2E3FC;\n",
              "      --hover-bg-color: #434B5C;\n",
              "      --hover-fill-color: #FFFFFF;\n",
              "      --disabled-bg-color: #3B4455;\n",
              "      --disabled-fill-color: #666;\n",
              "  }\n",
              "\n",
              "  .colab-df-quickchart {\n",
              "    background-color: var(--bg-color);\n",
              "    border: none;\n",
              "    border-radius: 50%;\n",
              "    cursor: pointer;\n",
              "    display: none;\n",
              "    fill: var(--fill-color);\n",
              "    height: 32px;\n",
              "    padding: 0;\n",
              "    width: 32px;\n",
              "  }\n",
              "\n",
              "  .colab-df-quickchart:hover {\n",
              "    background-color: var(--hover-bg-color);\n",
              "    box-shadow: 0 1px 2px rgba(60, 64, 67, 0.3), 0 1px 3px 1px rgba(60, 64, 67, 0.15);\n",
              "    fill: var(--button-hover-fill-color);\n",
              "  }\n",
              "\n",
              "  .colab-df-quickchart-complete:disabled,\n",
              "  .colab-df-quickchart-complete:disabled:hover {\n",
              "    background-color: var(--disabled-bg-color);\n",
              "    fill: var(--disabled-fill-color);\n",
              "    box-shadow: none;\n",
              "  }\n",
              "\n",
              "  .colab-df-spinner {\n",
              "    border: 2px solid var(--fill-color);\n",
              "    border-color: transparent;\n",
              "    border-bottom-color: var(--fill-color);\n",
              "    animation:\n",
              "      spin 1s steps(1) infinite;\n",
              "  }\n",
              "\n",
              "  @keyframes spin {\n",
              "    0% {\n",
              "      border-color: transparent;\n",
              "      border-bottom-color: var(--fill-color);\n",
              "      border-left-color: var(--fill-color);\n",
              "    }\n",
              "    20% {\n",
              "      border-color: transparent;\n",
              "      border-left-color: var(--fill-color);\n",
              "      border-top-color: var(--fill-color);\n",
              "    }\n",
              "    30% {\n",
              "      border-color: transparent;\n",
              "      border-left-color: var(--fill-color);\n",
              "      border-top-color: var(--fill-color);\n",
              "      border-right-color: var(--fill-color);\n",
              "    }\n",
              "    40% {\n",
              "      border-color: transparent;\n",
              "      border-right-color: var(--fill-color);\n",
              "      border-top-color: var(--fill-color);\n",
              "    }\n",
              "    60% {\n",
              "      border-color: transparent;\n",
              "      border-right-color: var(--fill-color);\n",
              "    }\n",
              "    80% {\n",
              "      border-color: transparent;\n",
              "      border-right-color: var(--fill-color);\n",
              "      border-bottom-color: var(--fill-color);\n",
              "    }\n",
              "    90% {\n",
              "      border-color: transparent;\n",
              "      border-bottom-color: var(--fill-color);\n",
              "    }\n",
              "  }\n",
              "</style>\n",
              "\n",
              "  <script>\n",
              "    async function quickchart(key) {\n",
              "      const quickchartButtonEl =\n",
              "        document.querySelector('#' + key + ' button');\n",
              "      quickchartButtonEl.disabled = true;  // To prevent multiple clicks.\n",
              "      quickchartButtonEl.classList.add('colab-df-spinner');\n",
              "      try {\n",
              "        const charts = await google.colab.kernel.invokeFunction(\n",
              "            'suggestCharts', [key], {});\n",
              "      } catch (error) {\n",
              "        console.error('Error during call to suggestCharts:', error);\n",
              "      }\n",
              "      quickchartButtonEl.classList.remove('colab-df-spinner');\n",
              "      quickchartButtonEl.classList.add('colab-df-quickchart-complete');\n",
              "    }\n",
              "    (() => {\n",
              "      let quickchartButtonEl =\n",
              "        document.querySelector('#df-7011fe34-bfee-442f-9b8f-47edc3d83022 button');\n",
              "      quickchartButtonEl.style.display =\n",
              "        google.colab.kernel.accessAllowed ? 'block' : 'none';\n",
              "    })();\n",
              "  </script>\n",
              "</div>\n",
              "\n",
              "    </div>\n",
              "  </div>\n"
            ],
            "application/vnd.google.colaboratory.intrinsic+json": {
              "type": "dataframe",
              "variable_name": "df",
              "summary": "{\n  \"name\": \"df\",\n  \"rows\": 9623,\n  \"fields\": [\n    {\n      \"column\": \"image_link\",\n      \"properties\": {\n        \"dtype\": \"string\",\n        \"num_unique_values\": 9389,\n        \"samples\": [\n          \"https://m.media-amazon.com/images/I/51so3RRP+HL.jpg\",\n          \"https://m.media-amazon.com/images/I/616eIZD-I+L.jpg\",\n          \"https://m.media-amazon.com/images/I/61F+3duLeqL.jpg\"\n        ],\n        \"semantic_type\": \"\",\n        \"description\": \"\"\n      }\n    },\n    {\n      \"column\": \"group_id\",\n      \"properties\": {\n        \"dtype\": \"number\",\n        \"std\": 259900,\n        \"min\": 101697,\n        \"max\": 998545,\n        \"num_unique_values\": 750,\n        \"samples\": [\n          722930,\n          532323,\n          276688\n        ],\n        \"semantic_type\": \"\",\n        \"description\": \"\"\n      }\n    },\n    {\n      \"column\": \"entity_name\",\n      \"properties\": {\n        \"dtype\": \"category\",\n        \"num_unique_values\": 8,\n        \"samples\": [\n          \"depth\",\n          \"item_volume\",\n          \"width\"\n        ],\n        \"semantic_type\": \"\",\n        \"description\": \"\"\n      }\n    },\n    {\n      \"column\": \"entity_value\",\n      \"properties\": {\n        \"dtype\": \"category\",\n        \"num_unique_values\": 2725,\n        \"samples\": [\n          \"161.0 millimetre\",\n          \"225.0 millimetre\",\n          \"46.0 kilogram\"\n        ],\n        \"semantic_type\": \"\",\n        \"description\": \"\"\n      }\n    },\n    {\n      \"column\": \"description\",\n      \"properties\": {\n        \"dtype\": \"string\",\n        \"num_unique_values\": 9336,\n        \"samples\": [\n          \" 2.3mm 5mm\",\n          \" UPGRADEIC CHIP TECHNOLOGY CHINA ,heat,or burn issemble, graded r:14.8Wh /oltage:4.35V Itage:3.82V er Battery 6/6S/6SP o 33 Power Current Recovery Overcharge Temperature Protection Protection Protection Protection Protection EA+E < Electromagnetic Short Circuit Cell Output Overvoltage Input Overvoltage Field Protection Protection Protection Protection Protection\",\n          \" Portable and easy to storage 6.5inch 3.54inch iPhone13\"\n        ],\n        \"semantic_type\": \"\",\n        \"description\": \"\"\n      }\n    },\n    {\n      \"column\": \"input\",\n      \"properties\": {\n        \"dtype\": \"string\",\n        \"num_unique_values\": 9438,\n        \"samples\": [\n          \"group: image_link: https://m.media-amazon.com/images/I/71hrBT+apWL.jpg 178958 entity_name: item_weight description:  Clothes Rails Size Steel pipe diameter : 18 mm. Steel Pipe Material Specification Steel pipe thickness : 1 mm 110 cm (L)x51 cm(W)x146cm(H) Product Weight 4.2 KG Product Size 43.3 in(L) x 20.07 in (W) x 57.48 in (H) 20cm/7.87in 126cm/49.6in 51cm/20.07in 110cm/43.3in\",\n          \"group: image_link: https://m.media-amazon.com/images/I/61+OqWYr3yL.jpg 488883 entity_name: height description:  53CM 42CM 30CM\",\n          \"group: image_link: https://m.media-amazon.com/images/I/41KPiZvsNuL.jpg 424775 entity_name: depth description:  98mm 165mm 400mm\"\n        ],\n        \"semantic_type\": \"\",\n        \"description\": \"\"\n      }\n    },\n    {\n      \"column\": \"output\",\n      \"properties\": {\n        \"dtype\": \"category\",\n        \"num_unique_values\": 2725,\n        \"samples\": [\n          \"161.0 millimetre\",\n          \"225.0 millimetre\",\n          \"46.0 kilogram\"\n        ],\n        \"semantic_type\": \"\",\n        \"description\": \"\"\n      }\n    },\n    {\n      \"column\": \"image_features\",\n      \"properties\": {\n        \"dtype\": \"object\",\n        \"semantic_type\": \"\",\n        \"description\": \"\"\n      }\n    }\n  ]\n}"
            }
          },
          "metadata": {},
          "execution_count": 34
        }
      ]
    },
    {
      "cell_type": "code",
      "source": [
        "# Save the DataFrame to a CSV file\n",
        "df.to_csv('output_with_featres.csv', index=False)"
      ],
      "metadata": {
        "id": "lXIJHGQfPnIZ"
      },
      "execution_count": 35,
      "outputs": []
    },
    {
      "cell_type": "code",
      "source": [
        "print(df['image_features'][0])"
      ],
      "metadata": {
        "colab": {
          "base_uri": "https://localhost:8080/"
        },
        "id": "ehPgqlpbRmWm",
        "outputId": "a9e96c61-9148-4b22-8652-c3a814f9f6af"
      },
      "execution_count": 36,
      "outputs": [
        {
          "output_type": "stream",
          "name": "stdout",
          "text": [
            "[-0.14570628106594086, -0.08404558151960373, 0.15436550974845886, -0.14421460032463074, 0.40063267946243286, -0.23941577970981598, 0.2860546410083771, 0.47497236728668213, 0.632354736328125, 0.6837124824523926, -0.19286879897117615, -0.1360575407743454, -0.08522646874189377, -0.1394806057214737, 0.23459278047084808, -0.16840220987796783, 0.31842556595802307, 0.36587488651275635, 0.09904134273529053, 0.1980828195810318, 0.2804751694202423, -0.3786559998989105, 0.05116968974471092, -0.26100170612335205, -0.10189618915319443, 0.16502219438552856, -0.02700062096118927, 0.2098412811756134, -0.2375825047492981, 0.05329183116555214, 0.20631255209445953, -0.17937931418418884, -0.3388797342777252, 0.3755093216896057, 0.0004658107936847955, -0.12002139538526535, 0.3415433168411255, -0.45912694931030273, -0.7410603165626526, -0.278531551361084, -0.07050061225891113, -0.07787082344293594, -0.0687410831451416, -0.22259113192558289, 0.1507789045572281, -1.6169594526290894, -0.264449805021286, 0.1276363879442215, 0.282275915145874, -0.4989505410194397, -0.07322786003351212, -0.17951670289039612, 0.2603282332420349, -0.2468918412923813, -0.2895455062389374, -0.11848435550928116, -0.42555922269821167, -0.291105717420578, -0.11745531857013702, 0.012205949053168297, 0.8226392865180969, -0.08091171085834503, -0.024025466293096542, 0.024359753355383873, 0.0020484556443989277, -0.2900524437427521, 0.2623298764228821, -0.6061667203903198, -0.29552945494651794, 0.12566204369068146, -0.53481125831604, -0.17605775594711304, -0.26420196890830994, 0.25234004855155945, 0.08265241980552673, -0.2717041075229645, -0.03536055237054825, -0.3506569564342499, 0.28234153985977173, -0.022938188165426254, -0.2707408368587494, -0.05961589515209198, -0.314240038394928, 0.1106467992067337, 0.46330514550209045, -0.3991546928882599, 1.7298164367675781, -0.3194586932659149, -0.21280455589294434, 0.011966072954237461, -0.05599966645240784, -0.3937005400657654, -6.171168804168701, 0.14143715798854828, -0.07170940190553665, 0.08958407491445541, 0.37649181485176086, -0.47702017426490784, 0.5362681150436401, 0.5763019323348999, 0.12174330651760101, -0.7111085653305054, 0.15796610713005066, 0.155769944190979, -0.39872053265571594, 0.005157161504030228, -2.3955514430999756, 0.035428836941719055, 0.6500133872032166, 0.056263942271471024, -0.17981909215450287, -0.14664699137210846, -0.23899631202220917, 0.15921907126903534, -0.6003267168998718, 0.1355462223291397, 0.42677584290504456, -0.5474275946617126, 0.02311544306576252, 0.741899847984314, 0.16955429315567017, 0.28847813606262207, -0.382144033908844, -0.03322377800941467, 0.23212119936943054, 0.15600013732910156, -0.0197131410241127, 0.36210906505584717, 0.2286515235900879, 0.3228471875190735, 0.4710234999656677, 0.35550615191459656, -0.23394271731376648, 0.8084123134613037, 0.4974730312824249, -0.08731572329998016, 0.043412815779447556, -0.6758984327316284, -0.5202588438987732, 0.17200933396816254, -0.6181071400642395, -0.055330872535705566, -0.49919021129608154, 0.11338542401790619, -0.6720614433288574, 0.0009382242569699883, -0.4391939342021942, -0.07208695262670517, 0.10134396702051163, -0.35129180550575256, 0.011086679995059967, 0.26837483048439026, 0.3268102705478668, -0.6045114398002625, 0.2180750072002411, -0.2921316623687744, 0.012938814237713814, 0.6106422543525696, 0.49606701731681824, 0.7608960270881653, 0.13793322443962097, -0.35636430978775024, -0.326900452375412, -0.16027110815048218, -0.2447637915611267, 0.1683603823184967, -0.10510516166687012, -0.10413000732660294, -0.22850415110588074, 0.40176767110824585, -0.4017351567745209, 0.057727403938770294, 0.014398792758584023, 0.1424276977777481, -0.225322425365448, -0.034211963415145874, 0.4193657338619232, -0.3886575400829315, 0.20380045473575592, -0.0750337466597557, -0.004460244905203581, 0.07175243645906448, -0.537251353263855, -0.00406285747885704, 0.20188859105110168, 0.010860225185751915, -0.08409730345010757, 0.06471407413482666, 0.27760446071624756, -0.29418766498565674, 0.3422640562057495, 0.43524813652038574, 0.08397994190454483, -0.32848647236824036, 0.30983349680900574, -0.38420727849006653, -0.3306134343147278, -0.23993735015392303, -0.02323073334991932, 0.47927218675613403, -0.005103320349007845, -0.2342541515827179, 0.061913780868053436, 0.027806837111711502, -0.30084720253944397, -0.02568180486559868, 0.15219861268997192, 0.0686543881893158, 0.30789512395858765, -0.12796872854232788, -0.15849442780017853, 0.6500334143638611, -0.2547052800655365, -0.011348765343427658, -0.24197426438331604, -0.01877974532544613, -0.15270908176898956, 0.29436343908309937, -0.8712763786315918, -0.11344897001981735, 0.6064499020576477, -0.08085862547159195, -0.3328782916069031, -0.2648475766181946, -0.011721144430339336, 0.10041434317827225, 0.01356698852032423, -0.034569624811410904, 0.05348223075270653, -0.4526740312576294, 0.022500554099678993, 0.023000342771410942, -0.4949513375759125, 0.45776358246803284, -0.3774867653846741, -0.40833064913749695, -0.272629976272583, -0.005266968626528978, 0.00477018253877759, -0.31692084670066833, -0.3514443039894104, 0.33935436606407166, 0.08354636281728745, 0.053968463093042374, -0.011575808748602867, 0.07773038744926453, 0.09483826160430908, 0.503220796585083, 0.2985387146472931, 0.4379947781562805, 0.10278093814849854, -0.448195219039917, 0.13253019750118256, -0.3120380640029907, 0.16233356297016144, 0.00756281241774559, 0.43884143233299255, 0.17390809953212738, 0.15916623175144196, 0.14927147328853607, 0.20273487269878387, 0.13377729058265686, -0.3028813600540161, 0.06528395414352417, 0.3388175368309021, 0.04677700251340866, -0.09537272155284882, 0.3401544392108917, -0.11247894167900085, 0.412241667509079, -0.556202232837677, 0.40903380513191223, 0.35622841119766235, -0.07967351377010345, 0.32397720217704773, -0.07833484560251236, -0.08313068747520447, 0.298545241355896, 0.6138283014297485, -0.14399240911006927, 0.0722406655550003, -0.28343522548675537, -0.127354234457016, 0.01969561167061329, 0.1416148543357849, 0.17800292372703552, 1.032403588294983, -0.21008822321891785, 0.3562440872192383, 0.23363235592842102, -0.0409756638109684, 0.04255116730928421, -0.30083930492401123, 0.022983098402619362, 0.24576501548290253, 0.31708911061286926, -0.4357718229293823, 0.18575896322727203, 0.5793423056602478, -0.14285340905189514, 0.4206353425979614, -0.13971081376075745, 0.2944648265838623, 0.24340717494487762, 0.3241783678531647, -0.36371302604675293, 0.3324083387851715, 0.029442233964800835, 0.1484171599149704, -0.06645171344280243, -0.022229034453630447, 0.34043601155281067, 0.8087374567985535, 0.043837741017341614, 0.20282608270645142, 0.5137062072753906, 0.4699283242225647, 0.11264201998710632, 0.04996565356850624, -0.26008862257003784, 0.06200747191905975, 2.633763551712036, -0.16642320156097412, 0.4231259226799011, -0.022470466792583466, -0.031087880954146385, -0.13894294202327728, -0.1121077761054039, -0.2630299925804138, 0.08282047510147095, -0.4128366708755493, 0.3031022548675537, 0.2394888550043106, -0.7159969806671143, 0.22398878633975983, -0.22794398665428162, -0.06391140818595886, 0.29876354336738586, -0.22063586115837097, 0.8056369423866272, 0.005805874243378639, 0.17718617618083954, 0.22254230082035065, -0.14330469071865082, -0.16776613891124725, -0.43903788924217224, 0.7931156754493713, -0.25877782702445984, -0.037747666239738464, 0.19892461597919464, 0.47560107707977295, 0.41382601857185364, -0.159398153424263, 0.12563598155975342, -0.28559771180152893, -0.2766227126121521, -0.07926780730485916, -0.15737707912921906, -0.10071812570095062, 0.3680727183818817, 0.08996355533599854, -0.07727941870689392, -0.05020921677350998, -0.16669966280460358, -0.7820019721984863, -0.2674207389354706, -0.025803858414292336, -0.1946311593055725, -0.07443153113126755, 0.11256524920463562, -0.001577011658810079, -0.09801110625267029, -0.352472722530365, -0.054250530898571014, -0.07165252417325974, -0.2471172958612442, -0.4157105088233948, -0.00809672474861145, -0.7521837949752808, 0.25001195073127747, -0.16574178636074066, 0.06742008775472641, 0.12767024338245392, -0.02007981203496456, 0.6179230213165283, -0.14828912913799286, -0.2033270299434662, -0.1261850893497467, 0.10930764675140381, -0.43927210569381714, -0.7800203561782837, 0.25644004344940186, 0.4489257037639618, -0.09493755549192429, -0.38784733414649963, -0.09841577708721161, 0.4086919128894806, -0.034781649708747864, -0.29091498255729675, -0.13395917415618896, 0.09023749083280563, 0.15221497416496277, 0.7809457182884216, -0.20966896414756775, -0.16983085870742798, -0.3124498724937439, -0.30417636036872864, -0.1467808187007904, -0.07263842225074768, -0.4899679720401764, 0.06159915030002594, -0.09917910397052765, 0.5885732769966125, 0.33585453033447266, 0.1111910492181778, 0.5939100384712219, -0.04374132677912712, -0.49046754837036133, 0.04465137794613838, -0.07903601974248886, 0.12102442234754562, -0.05547964572906494, -0.32737913727760315, -0.20808498561382294, 0.5625259876251221, -0.17419245839118958, -0.09759093821048737, 0.20590505003929138, -1.6139472723007202, 0.20005381107330322, 0.3065250515937805, -0.4319803714752197, -0.4605461657047272, -0.3777569532394409, -0.3081176280975342, -0.21639087796211243, -0.04269962012767792, -0.2566859722137451, 0.601528525352478, -0.23219096660614014, -0.3563191890716553, -0.1188584640622139, -0.5649124979972839, -0.03306823596358299, 0.2648355960845947, 0.2117651402950287, -0.00424621207639575, -0.0807260274887085, -0.22317050397396088, -0.19507305324077606, 0.18278643488883972, 0.04215984791517258, 0.24627472460269928, -0.6905539631843567, -0.18700847029685974, 0.08979402482509613, -0.4288907051086426, 0.10802633315324783, 0.03241436183452606, -0.2506130635738373, -0.1642799973487854, 0.060196805745363235, 0.340542733669281, -0.09351594001054764, -0.04133317247033119, 0.4822804927825928, -0.13505227863788605, 0.027099130675196648, 0.29804280400276184, 0.18597033619880676, 0.02556040696799755, -0.1148262619972229, 0.46419933438301086, 0.06266959756612778, -0.24313046038150787, 0.24512389302253723, -0.0124870790168643, -0.1400248110294342, 0.034752171486616135, -0.12954621016979218, -0.03387972712516785, -0.35418498516082764, -0.005475075449794531, 0.059187617152929306, 0.10022005438804626, 0.3885769546031952, -0.25514107942581177, 0.7003118395805359, -0.2553247809410095, 0.04114249721169472, 0.24007149040699005, 0.22194209694862366, 0.2529419958591461, 0.05324988439679146, 0.08367711305618286, 0.7422752976417542, 0.08429224789142609, -0.00498602632433176, 0.3663206994533539, -0.4972136616706848, -0.4265088438987732, -0.19355107843875885, -0.036005087196826935, 0.33155497908592224, 0.11535504460334778, 0.06900841742753983, -0.17100659012794495, 0.052316173911094666, -0.16466687619686127, 0.2785491943359375, 0.2056947499513626, 0.3112841844558716]\n"
          ]
        }
      ]
    },
    {
      "cell_type": "code",
      "source": [],
      "metadata": {
        "id": "zho58ylsSfTy"
      },
      "execution_count": null,
      "outputs": []
    }
  ]
}