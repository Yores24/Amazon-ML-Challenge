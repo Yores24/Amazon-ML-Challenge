{
 "cells": [
  {
   "cell_type": "code",
   "execution_count": 1,
   "id": "d1c6969f-cc77-4fcb-a679-5979233a8f16",
   "metadata": {},
   "outputs": [],
   "source": [
    "import pandas as pd"
   ]
  },
  {
   "cell_type": "code",
   "execution_count": 82,
   "id": "b00db31b-138d-457c-96ce-6d8596768fb8",
   "metadata": {},
   "outputs": [],
   "source": [
    "df= pd.read_csv('F:/PROJECTS/amazon/student_resource 3/dataset/train.csv')"
   ]
  },
  {
   "cell_type": "code",
   "execution_count": 83,
   "id": "68dfd4ef-8000-436c-8128-cb7d780b92ba",
   "metadata": {},
   "outputs": [
    {
     "data": {
      "text/html": [
       "<div>\n",
       "<style scoped>\n",
       "    .dataframe tbody tr th:only-of-type {\n",
       "        vertical-align: middle;\n",
       "    }\n",
       "\n",
       "    .dataframe tbody tr th {\n",
       "        vertical-align: top;\n",
       "    }\n",
       "\n",
       "    .dataframe thead th {\n",
       "        text-align: right;\n",
       "    }\n",
       "</style>\n",
       "<table border=\"1\" class=\"dataframe\">\n",
       "  <thead>\n",
       "    <tr style=\"text-align: right;\">\n",
       "      <th></th>\n",
       "      <th>image_link</th>\n",
       "      <th>group_id</th>\n",
       "      <th>entity_name</th>\n",
       "      <th>entity_value</th>\n",
       "    </tr>\n",
       "  </thead>\n",
       "  <tbody>\n",
       "    <tr>\n",
       "      <th>0</th>\n",
       "      <td>https://m.media-amazon.com/images/I/61I9XdN6OF...</td>\n",
       "      <td>748919</td>\n",
       "      <td>item_weight</td>\n",
       "      <td>500.0 gram</td>\n",
       "    </tr>\n",
       "    <tr>\n",
       "      <th>1</th>\n",
       "      <td>https://m.media-amazon.com/images/I/71gSRbyXmo...</td>\n",
       "      <td>916768</td>\n",
       "      <td>item_volume</td>\n",
       "      <td>1.0 cup</td>\n",
       "    </tr>\n",
       "    <tr>\n",
       "      <th>2</th>\n",
       "      <td>https://m.media-amazon.com/images/I/61BZ4zrjZX...</td>\n",
       "      <td>459516</td>\n",
       "      <td>item_weight</td>\n",
       "      <td>0.709 gram</td>\n",
       "    </tr>\n",
       "    <tr>\n",
       "      <th>3</th>\n",
       "      <td>https://m.media-amazon.com/images/I/612mrlqiI4...</td>\n",
       "      <td>459516</td>\n",
       "      <td>item_weight</td>\n",
       "      <td>0.709 gram</td>\n",
       "    </tr>\n",
       "    <tr>\n",
       "      <th>4</th>\n",
       "      <td>https://m.media-amazon.com/images/I/617Tl40LOX...</td>\n",
       "      <td>731432</td>\n",
       "      <td>item_weight</td>\n",
       "      <td>1400 milligram</td>\n",
       "    </tr>\n",
       "  </tbody>\n",
       "</table>\n",
       "</div>"
      ],
      "text/plain": [
       "                                          image_link  group_id  entity_name  \\\n",
       "0  https://m.media-amazon.com/images/I/61I9XdN6OF...    748919  item_weight   \n",
       "1  https://m.media-amazon.com/images/I/71gSRbyXmo...    916768  item_volume   \n",
       "2  https://m.media-amazon.com/images/I/61BZ4zrjZX...    459516  item_weight   \n",
       "3  https://m.media-amazon.com/images/I/612mrlqiI4...    459516  item_weight   \n",
       "4  https://m.media-amazon.com/images/I/617Tl40LOX...    731432  item_weight   \n",
       "\n",
       "     entity_value  \n",
       "0      500.0 gram  \n",
       "1         1.0 cup  \n",
       "2      0.709 gram  \n",
       "3      0.709 gram  \n",
       "4  1400 milligram  "
      ]
     },
     "execution_count": 83,
     "metadata": {},
     "output_type": "execute_result"
    }
   ],
   "source": [
    "df.head()"
   ]
  },
  {
   "cell_type": "code",
   "execution_count": 84,
   "id": "dac9e3d2-df2d-4168-a8a9-14521266289a",
   "metadata": {},
   "outputs": [
    {
     "data": {
      "text/plain": [
       "(263859, 4)"
      ]
     },
     "execution_count": 84,
     "metadata": {},
     "output_type": "execute_result"
    }
   ],
   "source": [
    "df.shape"
   ]
  },
  {
   "cell_type": "code",
   "execution_count": 85,
   "id": "db9536ea-c71a-4ea9-b474-c065fb117e7f",
   "metadata": {},
   "outputs": [
    {
     "data": {
      "text/plain": [
       "750"
      ]
     },
     "execution_count": 85,
     "metadata": {},
     "output_type": "execute_result"
    }
   ],
   "source": [
    "len(df['group_id'].unique())"
   ]
  },
  {
   "cell_type": "code",
   "execution_count": 86,
   "id": "78e15f0c-b9e7-4036-9bdd-866ef1b1c36f",
   "metadata": {},
   "outputs": [
    {
     "name": "stdout",
     "output_type": "stream",
     "text": [
      "<class 'pandas.core.frame.DataFrame'>\n",
      "RangeIndex: 263859 entries, 0 to 263858\n",
      "Data columns (total 4 columns):\n",
      " #   Column        Non-Null Count   Dtype \n",
      "---  ------        --------------   ----- \n",
      " 0   image_link    263859 non-null  object\n",
      " 1   group_id      263859 non-null  int64 \n",
      " 2   entity_name   263859 non-null  object\n",
      " 3   entity_value  263859 non-null  object\n",
      "dtypes: int64(1), object(3)\n",
      "memory usage: 8.1+ MB\n"
     ]
    }
   ],
   "source": [
    "df.info()"
   ]
  },
  {
   "cell_type": "code",
   "execution_count": 87,
   "id": "e21c0346-0c09-40ff-9fb2-660bceb78d02",
   "metadata": {},
   "outputs": [
    {
     "data": {
      "text/plain": [
       "array(['item_weight', 'item_volume', 'voltage', 'wattage',\n",
       "       'maximum_weight_recommendation', 'height', 'depth', 'width'],\n",
       "      dtype=object)"
      ]
     },
     "execution_count": 87,
     "metadata": {},
     "output_type": "execute_result"
    }
   ],
   "source": [
    "df['entity_name'].unique()"
   ]
  },
  {
   "cell_type": "code",
   "execution_count": 88,
   "id": "28433a3f-ea11-4f8a-ab15-97e78916e174",
   "metadata": {},
   "outputs": [
    {
     "name": "stdout",
     "output_type": "stream",
     "text": [
      "Entity with minimum count: maximum_weight_recommendation, Count: 3263\n"
     ]
    }
   ],
   "source": [
    "entity_counts = df['entity_name'].value_counts()\n",
    "min_entity_name = entity_counts.idxmin()\n",
    "\n",
    "# Print the entity_name and its count\n",
    "print(f\"Entity with minimum count: {min_entity_name}, Count: {entity_counts[min_entity_name]}\")"
   ]
  },
  {
   "cell_type": "code",
   "execution_count": 89,
   "id": "c13c9f91-78d3-41e3-9608-86d4c412ddd4",
   "metadata": {},
   "outputs": [
    {
     "data": {
      "text/html": [
       "<div>\n",
       "<style scoped>\n",
       "    .dataframe tbody tr th:only-of-type {\n",
       "        vertical-align: middle;\n",
       "    }\n",
       "\n",
       "    .dataframe tbody tr th {\n",
       "        vertical-align: top;\n",
       "    }\n",
       "\n",
       "    .dataframe thead th {\n",
       "        text-align: right;\n",
       "    }\n",
       "</style>\n",
       "<table border=\"1\" class=\"dataframe\">\n",
       "  <thead>\n",
       "    <tr style=\"text-align: right;\">\n",
       "      <th></th>\n",
       "      <th>image_link</th>\n",
       "      <th>group_id</th>\n",
       "      <th>entity_name</th>\n",
       "      <th>entity_value</th>\n",
       "    </tr>\n",
       "  </thead>\n",
       "  <tbody>\n",
       "    <tr>\n",
       "      <th>205213</th>\n",
       "      <td>https://m.media-amazon.com/images/I/51wPH3Euhc...</td>\n",
       "      <td>226428</td>\n",
       "      <td>depth</td>\n",
       "      <td>25.0 inch</td>\n",
       "    </tr>\n",
       "  </tbody>\n",
       "</table>\n",
       "</div>"
      ],
      "text/plain": [
       "                                               image_link  group_id  \\\n",
       "205213  https://m.media-amazon.com/images/I/51wPH3Euhc...    226428   \n",
       "\n",
       "       entity_name entity_value  \n",
       "205213       depth    25.0 inch  "
      ]
     },
     "execution_count": 89,
     "metadata": {},
     "output_type": "execute_result"
    }
   ],
   "source": [
    "df[df['group_id']==226428]"
   ]
  },
  {
   "cell_type": "code",
   "execution_count": 90,
   "id": "21f3d377-9ab6-4112-8be7-1ae7bac9ddbe",
   "metadata": {},
   "outputs": [
    {
     "data": {
      "text/html": [
       "<div>\n",
       "<style scoped>\n",
       "    .dataframe tbody tr th:only-of-type {\n",
       "        vertical-align: middle;\n",
       "    }\n",
       "\n",
       "    .dataframe tbody tr th {\n",
       "        vertical-align: top;\n",
       "    }\n",
       "\n",
       "    .dataframe thead th {\n",
       "        text-align: right;\n",
       "    }\n",
       "</style>\n",
       "<table border=\"1\" class=\"dataframe\">\n",
       "  <thead>\n",
       "    <tr style=\"text-align: right;\">\n",
       "      <th></th>\n",
       "      <th>image_link</th>\n",
       "      <th>group_id</th>\n",
       "      <th>entity_name</th>\n",
       "      <th>entity_value</th>\n",
       "    </tr>\n",
       "  </thead>\n",
       "  <tbody>\n",
       "    <tr>\n",
       "      <th>136398</th>\n",
       "      <td>https://m.media-amazon.com/images/I/61+l9t9TcP...</td>\n",
       "      <td>656506</td>\n",
       "      <td>width</td>\n",
       "      <td>82.0 centimetre</td>\n",
       "    </tr>\n",
       "    <tr>\n",
       "      <th>184207</th>\n",
       "      <td>https://m.media-amazon.com/images/I/51XQ96OJnX...</td>\n",
       "      <td>656506</td>\n",
       "      <td>depth</td>\n",
       "      <td>420.0 millimetre</td>\n",
       "    </tr>\n",
       "  </tbody>\n",
       "</table>\n",
       "</div>"
      ],
      "text/plain": [
       "                                               image_link  group_id  \\\n",
       "136398  https://m.media-amazon.com/images/I/61+l9t9TcP...    656506   \n",
       "184207  https://m.media-amazon.com/images/I/51XQ96OJnX...    656506   \n",
       "\n",
       "       entity_name      entity_value  \n",
       "136398       width   82.0 centimetre  \n",
       "184207       depth  420.0 millimetre  "
      ]
     },
     "execution_count": 90,
     "metadata": {},
     "output_type": "execute_result"
    }
   ],
   "source": [
    "df[df['group_id']==656506]"
   ]
  },
  {
   "cell_type": "code",
   "execution_count": 91,
   "id": "389138e3-b27a-40f3-9581-da47310ba3f8",
   "metadata": {},
   "outputs": [
    {
     "data": {
      "text/plain": [
       "image_link      54\n",
       "group_id        54\n",
       "entity_name     54\n",
       "entity_value    54\n",
       "dtype: int64"
      ]
     },
     "execution_count": 91,
     "metadata": {},
     "output_type": "execute_result"
    }
   ],
   "source": [
    "df[df['group_id']==101697].count()"
   ]
  },
  {
   "cell_type": "code",
   "execution_count": 92,
   "id": "e1d1ebd3-085b-4a12-ae1a-694f9098de5f",
   "metadata": {},
   "outputs": [
    {
     "name": "stdout",
     "output_type": "stream",
     "text": [
      "group_id\n",
      "101697    10\n",
      "713791    10\n",
      "704724    10\n",
      "705304    10\n",
      "705487    10\n",
      "          ..\n",
      "656506     2\n",
      "997333     2\n",
      "314298     2\n",
      "178031     1\n",
      "226428     1\n",
      "Name: count, Length: 750, dtype: int64\n"
     ]
    }
   ],
   "source": [
    "# Define the target count\n",
    "target_count = 10\n",
    "\n",
    "# Group by 'group_id' and sample rows based on the count condition\n",
    "balanced_df = df.groupby('group_id').apply(lambda x: x.sample(n=min(len(x), target_count), random_state=42))\n",
    "\n",
    "# Reset index to clean up the DataFrame\n",
    "balanced_df = balanced_df.reset_index(drop=True)\n",
    "\n",
    "# Check the distribution to confirm the result\n",
    "print(balanced_df['group_id'].value_counts())"
   ]
  },
  {
   "cell_type": "code",
   "execution_count": 93,
   "id": "5f89b4cc-c86a-4549-b843-a22b160679dc",
   "metadata": {},
   "outputs": [
    {
     "data": {
      "text/plain": [
       "(7360, 4)"
      ]
     },
     "execution_count": 93,
     "metadata": {},
     "output_type": "execute_result"
    }
   ],
   "source": [
    "balanced_df.shape"
   ]
  },
  {
   "cell_type": "code",
   "execution_count": 94,
   "id": "6c8d4126-6ae5-41bf-8007-e8cdf888faa2",
   "metadata": {},
   "outputs": [
    {
     "name": "stdout",
     "output_type": "stream",
     "text": [
      "entity_name\n",
      "width                            2058\n",
      "depth                            1966\n",
      "height                           1787\n",
      "item_weight                      1220\n",
      "voltage                            96\n",
      "wattage                            91\n",
      "item_volume                        80\n",
      "maximum_weight_recommendation      62\n",
      "Name: count, dtype: int64\n"
     ]
    }
   ],
   "source": [
    "print(balanced_df['entity_name'].value_counts())"
   ]
  },
  {
   "cell_type": "code",
   "execution_count": 95,
   "id": "8afbd889-1c3c-4c85-9675-2c146cbc9220",
   "metadata": {},
   "outputs": [
    {
     "name": "stdout",
     "output_type": "stream",
     "text": [
      "Index(['voltage', 'wattage', 'item_volume', 'maximum_weight_recommendation'], dtype='object', name='entity_name')\n"
     ]
    }
   ],
   "source": [
    "target_count = 1000\n",
    "\n",
    "# Find entity_names with count less than 1000\n",
    "entities_below_threshold = balanced_df['entity_name'].value_counts()[balanced_df['entity_name'].value_counts() < target_count].index\n",
    "print(entities_below_threshold)"
   ]
  },
  {
   "cell_type": "code",
   "execution_count": 96,
   "id": "2b1a1fe4-1f59-4389-94df-ea0d8d4fe418",
   "metadata": {},
   "outputs": [],
   "source": [
    "for entity in entities_below_threshold:\n",
    "    current_count = balanced_df[balanced_df['entity_name'] == entity].shape[0]\n",
    "    rows_needed = target_count - current_count\n",
    "    \n",
    "    # Sample additional rows from the original df (excluding rows already in balanced_df)\n",
    "    additional_rows = df[(df['entity_name'] == entity) & (~df.index.isin(balanced_df.index))].sample(n=rows_needed, replace=True, random_state=42)\n",
    "    \n",
    "    # Add the sampled rows to balanced_df\n",
    "    balanced_df = pd.concat([balanced_df, additional_rows], ignore_index=True)"
   ]
  },
  {
   "cell_type": "code",
   "execution_count": 97,
   "id": "c10d3b0d-c796-4da6-9dcc-b2ee8e1b66ac",
   "metadata": {},
   "outputs": [
    {
     "name": "stdout",
     "output_type": "stream",
     "text": [
      "entity_name\n",
      "width                            2058\n",
      "depth                            1966\n",
      "height                           1787\n",
      "item_weight                      1220\n",
      "maximum_weight_recommendation    1000\n",
      "item_volume                      1000\n",
      "wattage                          1000\n",
      "voltage                          1000\n",
      "Name: count, dtype: int64\n"
     ]
    }
   ],
   "source": [
    "print(balanced_df['entity_name'].value_counts())"
   ]
  },
  {
   "cell_type": "code",
   "execution_count": 98,
   "id": "10b77a43-0d97-4f59-a93e-aa14710c8340",
   "metadata": {},
   "outputs": [
    {
     "data": {
      "text/plain": [
       "(11031, 4)"
      ]
     },
     "execution_count": 98,
     "metadata": {},
     "output_type": "execute_result"
    }
   ],
   "source": [
    "balanced_df.shape"
   ]
  },
  {
   "cell_type": "code",
   "execution_count": 99,
   "id": "f736dae1-78dd-48ca-a862-3a4222a7b3ac",
   "metadata": {},
   "outputs": [
    {
     "name": "stdout",
     "output_type": "stream",
     "text": [
      "group_id\n",
      "752266    481\n",
      "120219    402\n",
      "459516    254\n",
      "318770    254\n",
      "271537    190\n",
      "         ... \n",
      "656506      2\n",
      "351545      2\n",
      "997333      2\n",
      "226428      1\n",
      "178031      1\n",
      "Name: count, Length: 750, dtype: int64\n"
     ]
    }
   ],
   "source": [
    "print(balanced_df['group_id'].value_counts())"
   ]
  },
  {
   "cell_type": "code",
   "execution_count": 100,
   "id": "585123a5-1203-45fe-b796-fdc1a354c38b",
   "metadata": {},
   "outputs": [],
   "source": [
    "file_path = 'F:/PROJECTS/amazon/balanced_df.csv'\n",
    "\n",
    "# Convert the DataFrame to a CSV file\n",
    "balanced_df.to_csv(file_path, index=False)"
   ]
  },
  {
   "cell_type": "code",
   "execution_count": null,
   "id": "45bd23be-5a48-41d5-acc7-aadc7078c8ae",
   "metadata": {},
   "outputs": [],
   "source": []
  }
 ],
 "metadata": {
  "kernelspec": {
   "display_name": "Python 3 (ipykernel)",
   "language": "python",
   "name": "python3"
  },
  "language_info": {
   "codemirror_mode": {
    "name": "ipython",
    "version": 3
   },
   "file_extension": ".py",
   "mimetype": "text/x-python",
   "name": "python",
   "nbconvert_exporter": "python",
   "pygments_lexer": "ipython3",
   "version": "3.11.5"
  }
 },
 "nbformat": 4,
 "nbformat_minor": 5
}
