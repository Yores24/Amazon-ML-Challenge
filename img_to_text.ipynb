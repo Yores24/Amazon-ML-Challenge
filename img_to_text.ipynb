{
  "cells": [
    {
      "cell_type": "code",
      "execution_count": 1,
      "metadata": {
        "colab": {
          "base_uri": "https://localhost:8080/"
        },
        "id": "ls1ZMkTeH0p8",
        "outputId": "8c66e708-6bda-4912-dc93-e794163d77e2"
      },
      "outputs": [
        {
          "name": "stdout",
          "output_type": "stream",
          "text": [
            "Collecting paddlepaddle-gpu\n",
            "  Downloading paddlepaddle_gpu-2.6.2-cp310-cp310-manylinux1_x86_64.whl.metadata (8.6 kB)\n",
            "Collecting httpx (from paddlepaddle-gpu)\n",
            "  Downloading httpx-0.27.2-py3-none-any.whl.metadata (7.1 kB)\n",
            "Requirement already satisfied: numpy>=1.13 in /usr/local/lib/python3.10/dist-packages (from paddlepaddle-gpu) (1.26.4)\n",
            "Requirement already satisfied: Pillow in /usr/local/lib/python3.10/dist-packages (from paddlepaddle-gpu) (9.4.0)\n",
            "Requirement already satisfied: decorator in /usr/local/lib/python3.10/dist-packages (from paddlepaddle-gpu) (4.4.2)\n",
            "Collecting astor (from paddlepaddle-gpu)\n",
            "  Downloading astor-0.8.1-py2.py3-none-any.whl.metadata (4.2 kB)\n",
            "Requirement already satisfied: opt-einsum==3.3.0 in /usr/local/lib/python3.10/dist-packages (from paddlepaddle-gpu) (3.3.0)\n",
            "Requirement already satisfied: protobuf>=3.20.2 in /usr/local/lib/python3.10/dist-packages (from paddlepaddle-gpu) (3.20.3)\n",
            "Requirement already satisfied: anyio in /usr/local/lib/python3.10/dist-packages (from httpx->paddlepaddle-gpu) (3.7.1)\n",
            "Requirement already satisfied: certifi in /usr/local/lib/python3.10/dist-packages (from httpx->paddlepaddle-gpu) (2024.8.30)\n",
            "Collecting httpcore==1.* (from httpx->paddlepaddle-gpu)\n",
            "  Downloading httpcore-1.0.5-py3-none-any.whl.metadata (20 kB)\n",
            "Requirement already satisfied: idna in /usr/local/lib/python3.10/dist-packages (from httpx->paddlepaddle-gpu) (3.8)\n",
            "Requirement already satisfied: sniffio in /usr/local/lib/python3.10/dist-packages (from httpx->paddlepaddle-gpu) (1.3.1)\n",
            "Collecting h11<0.15,>=0.13 (from httpcore==1.*->httpx->paddlepaddle-gpu)\n",
            "  Downloading h11-0.14.0-py3-none-any.whl.metadata (8.2 kB)\n",
            "Requirement already satisfied: exceptiongroup in /usr/local/lib/python3.10/dist-packages (from anyio->httpx->paddlepaddle-gpu) (1.2.2)\n",
            "Downloading paddlepaddle_gpu-2.6.2-cp310-cp310-manylinux1_x86_64.whl (758.9 MB)\n",
            "\u001b[2K   \u001b[90m━━━━━━━━━━━━━━━━━━━━━━━━━━━━━━━━━━━━━━━━\u001b[0m \u001b[32m758.9/758.9 MB\u001b[0m \u001b[31m2.5 MB/s\u001b[0m eta \u001b[36m0:00:00\u001b[0m\n",
            "\u001b[?25hDownloading astor-0.8.1-py2.py3-none-any.whl (27 kB)\n",
            "Downloading httpx-0.27.2-py3-none-any.whl (76 kB)\n",
            "\u001b[2K   \u001b[90m━━━━━━━━━━━━━━━━━━━━━━━━━━━━━━━━━━━━━━━━\u001b[0m \u001b[32m76.4/76.4 kB\u001b[0m \u001b[31m5.1 MB/s\u001b[0m eta \u001b[36m0:00:00\u001b[0m\n",
            "\u001b[?25hDownloading httpcore-1.0.5-py3-none-any.whl (77 kB)\n",
            "\u001b[2K   \u001b[90m━━━━━━━━━━━━━━━━━━━━━━━━━━━━━━━━━━━━━━━━\u001b[0m \u001b[32m77.9/77.9 kB\u001b[0m \u001b[31m5.0 MB/s\u001b[0m eta \u001b[36m0:00:00\u001b[0m\n",
            "\u001b[?25hDownloading h11-0.14.0-py3-none-any.whl (58 kB)\n",
            "\u001b[2K   \u001b[90m━━━━━━━━━━━━━━━━━━━━━━━━━━━━━━━━━━━━━━━━\u001b[0m \u001b[32m58.3/58.3 kB\u001b[0m \u001b[31m1.5 MB/s\u001b[0m eta \u001b[36m0:00:00\u001b[0m\n",
            "\u001b[?25hInstalling collected packages: h11, astor, httpcore, httpx, paddlepaddle-gpu\n",
            "Successfully installed astor-0.8.1 h11-0.14.0 httpcore-1.0.5 httpx-0.27.2 paddlepaddle-gpu-2.6.2\n"
          ]
        }
      ],
      "source": [
        "!python3 -m pip install paddlepaddle-gpu\n"
      ]
    },
    {
      "cell_type": "code",
      "execution_count": 2,
      "metadata": {
        "colab": {
          "base_uri": "https://localhost:8080/"
        },
        "id": "l2liSB0oH6KM",
        "outputId": "6efdbf56-e2b4-417b-9341-636c234e4c19"
      },
      "outputs": [
        {
          "name": "stdout",
          "output_type": "stream",
          "text": [
            "Collecting paddleocr>=2.0.1\n",
            "  Downloading paddleocr-2.8.1-py3-none-any.whl.metadata (19 kB)\n",
            "Requirement already satisfied: shapely in /usr/local/lib/python3.10/dist-packages (from paddleocr>=2.0.1) (2.0.6)\n",
            "Requirement already satisfied: scikit-image in /usr/local/lib/python3.10/dist-packages (from paddleocr>=2.0.1) (0.23.2)\n",
            "Requirement already satisfied: imgaug in /usr/local/lib/python3.10/dist-packages (from paddleocr>=2.0.1) (0.4.0)\n",
            "Collecting pyclipper (from paddleocr>=2.0.1)\n",
            "  Downloading pyclipper-1.3.0.post5-cp310-cp310-manylinux_2_12_x86_64.manylinux2010_x86_64.whl.metadata (9.0 kB)\n",
            "Collecting lmdb (from paddleocr>=2.0.1)\n",
            "  Downloading lmdb-1.5.1-cp310-cp310-manylinux_2_17_x86_64.manylinux2014_x86_64.whl.metadata (1.1 kB)\n",
            "Requirement already satisfied: tqdm in /usr/local/lib/python3.10/dist-packages (from paddleocr>=2.0.1) (4.66.5)\n",
            "Requirement already satisfied: numpy<2.0 in /usr/local/lib/python3.10/dist-packages (from paddleocr>=2.0.1) (1.26.4)\n",
            "Collecting rapidfuzz (from paddleocr>=2.0.1)\n",
            "  Downloading rapidfuzz-3.9.7-cp310-cp310-manylinux_2_17_x86_64.manylinux2014_x86_64.whl.metadata (12 kB)\n",
            "Requirement already satisfied: opencv-python in /usr/local/lib/python3.10/dist-packages (from paddleocr>=2.0.1) (4.10.0.84)\n",
            "Requirement already satisfied: opencv-contrib-python in /usr/local/lib/python3.10/dist-packages (from paddleocr>=2.0.1) (4.10.0.84)\n",
            "Requirement already satisfied: cython in /usr/local/lib/python3.10/dist-packages (from paddleocr>=2.0.1) (3.0.11)\n",
            "Requirement already satisfied: Pillow in /usr/local/lib/python3.10/dist-packages (from paddleocr>=2.0.1) (9.4.0)\n",
            "Requirement already satisfied: pyyaml in /usr/local/lib/python3.10/dist-packages (from paddleocr>=2.0.1) (6.0.2)\n",
            "Collecting python-docx (from paddleocr>=2.0.1)\n",
            "  Downloading python_docx-1.1.2-py3-none-any.whl.metadata (2.0 kB)\n",
            "Requirement already satisfied: beautifulsoup4 in /usr/local/lib/python3.10/dist-packages (from paddleocr>=2.0.1) (4.12.3)\n",
            "Requirement already satisfied: fonttools>=4.24.0 in /usr/local/lib/python3.10/dist-packages (from paddleocr>=2.0.1) (4.53.1)\n",
            "Collecting fire>=0.3.0 (from paddleocr>=2.0.1)\n",
            "  Downloading fire-0.6.0.tar.gz (88 kB)\n",
            "\u001b[2K     \u001b[90m━━━━━━━━━━━━━━━━━━━━━━━━━━━━━━━━━━━━━━━━\u001b[0m \u001b[32m88.4/88.4 kB\u001b[0m \u001b[31m1.3 MB/s\u001b[0m eta \u001b[36m0:00:00\u001b[0m\n",
            "\u001b[?25h  Preparing metadata (setup.py) ... \u001b[?25l\u001b[?25hdone\n",
            "Requirement already satisfied: requests in /usr/local/lib/python3.10/dist-packages (from paddleocr>=2.0.1) (2.32.3)\n",
            "Requirement already satisfied: six in /usr/local/lib/python3.10/dist-packages (from fire>=0.3.0->paddleocr>=2.0.1) (1.16.0)\n",
            "Requirement already satisfied: termcolor in /usr/local/lib/python3.10/dist-packages (from fire>=0.3.0->paddleocr>=2.0.1) (2.4.0)\n",
            "Requirement already satisfied: soupsieve>1.2 in /usr/local/lib/python3.10/dist-packages (from beautifulsoup4->paddleocr>=2.0.1) (2.6)\n",
            "Requirement already satisfied: scipy in /usr/local/lib/python3.10/dist-packages (from imgaug->paddleocr>=2.0.1) (1.13.1)\n",
            "Requirement already satisfied: matplotlib in /usr/local/lib/python3.10/dist-packages (from imgaug->paddleocr>=2.0.1) (3.7.1)\n",
            "Requirement already satisfied: imageio in /usr/local/lib/python3.10/dist-packages (from imgaug->paddleocr>=2.0.1) (2.34.2)\n",
            "Requirement already satisfied: networkx>=2.8 in /usr/local/lib/python3.10/dist-packages (from scikit-image->paddleocr>=2.0.1) (3.3)\n",
            "Requirement already satisfied: tifffile>=2022.8.12 in /usr/local/lib/python3.10/dist-packages (from scikit-image->paddleocr>=2.0.1) (2024.8.30)\n",
            "Requirement already satisfied: packaging>=21 in /usr/local/lib/python3.10/dist-packages (from scikit-image->paddleocr>=2.0.1) (24.1)\n",
            "Requirement already satisfied: lazy-loader>=0.4 in /usr/local/lib/python3.10/dist-packages (from scikit-image->paddleocr>=2.0.1) (0.4)\n",
            "Requirement already satisfied: lxml>=3.1.0 in /usr/local/lib/python3.10/dist-packages (from python-docx->paddleocr>=2.0.1) (4.9.4)\n",
            "Requirement already satisfied: typing-extensions>=4.9.0 in /usr/local/lib/python3.10/dist-packages (from python-docx->paddleocr>=2.0.1) (4.12.2)\n",
            "Requirement already satisfied: charset-normalizer<4,>=2 in /usr/local/lib/python3.10/dist-packages (from requests->paddleocr>=2.0.1) (3.3.2)\n",
            "Requirement already satisfied: idna<4,>=2.5 in /usr/local/lib/python3.10/dist-packages (from requests->paddleocr>=2.0.1) (3.8)\n",
            "Requirement already satisfied: urllib3<3,>=1.21.1 in /usr/local/lib/python3.10/dist-packages (from requests->paddleocr>=2.0.1) (2.0.7)\n",
            "Requirement already satisfied: certifi>=2017.4.17 in /usr/local/lib/python3.10/dist-packages (from requests->paddleocr>=2.0.1) (2024.8.30)\n",
            "Requirement already satisfied: contourpy>=1.0.1 in /usr/local/lib/python3.10/dist-packages (from matplotlib->imgaug->paddleocr>=2.0.1) (1.3.0)\n",
            "Requirement already satisfied: cycler>=0.10 in /usr/local/lib/python3.10/dist-packages (from matplotlib->imgaug->paddleocr>=2.0.1) (0.12.1)\n",
            "Requirement already satisfied: kiwisolver>=1.0.1 in /usr/local/lib/python3.10/dist-packages (from matplotlib->imgaug->paddleocr>=2.0.1) (1.4.7)\n",
            "Requirement already satisfied: pyparsing>=2.3.1 in /usr/local/lib/python3.10/dist-packages (from matplotlib->imgaug->paddleocr>=2.0.1) (3.1.4)\n",
            "Requirement already satisfied: python-dateutil>=2.7 in /usr/local/lib/python3.10/dist-packages (from matplotlib->imgaug->paddleocr>=2.0.1) (2.8.2)\n",
            "Downloading paddleocr-2.8.1-py3-none-any.whl (407 kB)\n",
            "\u001b[2K   \u001b[90m━━━━━━━━━━━━━━━━━━━━━━━━━━━━━━━━━━━━━━━━\u001b[0m \u001b[32m407.5/407.5 kB\u001b[0m \u001b[31m4.4 MB/s\u001b[0m eta \u001b[36m0:00:00\u001b[0m\n",
            "\u001b[?25hDownloading lmdb-1.5.1-cp310-cp310-manylinux_2_17_x86_64.manylinux2014_x86_64.whl (294 kB)\n",
            "\u001b[2K   \u001b[90m━━━━━━━━━━━━━━━━━━━━━━━━━━━━━━━━━━━━━━━━\u001b[0m \u001b[32m294.9/294.9 kB\u001b[0m \u001b[31m15.0 MB/s\u001b[0m eta \u001b[36m0:00:00\u001b[0m\n",
            "\u001b[?25hDownloading pyclipper-1.3.0.post5-cp310-cp310-manylinux_2_12_x86_64.manylinux2010_x86_64.whl (908 kB)\n",
            "\u001b[2K   \u001b[90m━━━━━━━━━━━━━━━━━━━━━━━━━━━━━━━━━━━━━━━━\u001b[0m \u001b[32m908.3/908.3 kB\u001b[0m \u001b[31m15.0 MB/s\u001b[0m eta \u001b[36m0:00:00\u001b[0m\n",
            "\u001b[?25hDownloading python_docx-1.1.2-py3-none-any.whl (244 kB)\n",
            "\u001b[2K   \u001b[90m━━━━━━━━━━━━━━━━━━━━━━━━━━━━━━━━━━━━━━━━\u001b[0m \u001b[32m244.3/244.3 kB\u001b[0m \u001b[31m16.2 MB/s\u001b[0m eta \u001b[36m0:00:00\u001b[0m\n",
            "\u001b[?25hDownloading rapidfuzz-3.9.7-cp310-cp310-manylinux_2_17_x86_64.manylinux2014_x86_64.whl (3.4 MB)\n",
            "\u001b[2K   \u001b[90m━━━━━━━━━━━━━━━━━━━━━━━━━━━━━━━━━━━━━━━━\u001b[0m \u001b[32m3.4/3.4 MB\u001b[0m \u001b[31m43.9 MB/s\u001b[0m eta \u001b[36m0:00:00\u001b[0m\n",
            "\u001b[?25hBuilding wheels for collected packages: fire\n",
            "  Building wheel for fire (setup.py) ... \u001b[?25l\u001b[?25hdone\n",
            "  Created wheel for fire: filename=fire-0.6.0-py2.py3-none-any.whl size=117030 sha256=717bc375a5b472dad1621d0d3561cf82c1b7f1602ed21da4575fec8e4db85eaa\n",
            "  Stored in directory: /root/.cache/pip/wheels/d6/6d/5d/5b73fa0f46d01a793713f8859201361e9e581ced8c75e5c6a3\n",
            "Successfully built fire\n",
            "Installing collected packages: pyclipper, lmdb, rapidfuzz, python-docx, fire, paddleocr\n",
            "Successfully installed fire-0.6.0 lmdb-1.5.1 paddleocr-2.8.1 pyclipper-1.3.0.post5 python-docx-1.1.2 rapidfuzz-3.9.7\n"
          ]
        }
      ],
      "source": [
        "!pip install \"paddleocr>=2.0.1\""
      ]
    },
    {
      "cell_type": "code",
      "execution_count": 3,
      "metadata": {
        "colab": {
          "base_uri": "https://localhost:8080/"
        },
        "id": "j0OjmDfrIOdO",
        "outputId": "e3ffd3ec-20b8-40d8-fd41-78c43df114e3"
      },
      "outputs": [
        {
          "name": "stdout",
          "output_type": "stream",
          "text": [
            "Collecting easyocr\n",
            "  Downloading easyocr-1.7.1-py3-none-any.whl.metadata (11 kB)\n",
            "Requirement already satisfied: torch in /usr/local/lib/python3.10/dist-packages (from easyocr) (2.4.0+cu121)\n",
            "Requirement already satisfied: torchvision>=0.5 in /usr/local/lib/python3.10/dist-packages (from easyocr) (0.19.0+cu121)\n",
            "Requirement already satisfied: opencv-python-headless in /usr/local/lib/python3.10/dist-packages (from easyocr) (4.10.0.84)\n",
            "Requirement already satisfied: scipy in /usr/local/lib/python3.10/dist-packages (from easyocr) (1.13.1)\n",
            "Requirement already satisfied: numpy in /usr/local/lib/python3.10/dist-packages (from easyocr) (1.26.4)\n",
            "Requirement already satisfied: Pillow in /usr/local/lib/python3.10/dist-packages (from easyocr) (9.4.0)\n",
            "Requirement already satisfied: scikit-image in /usr/local/lib/python3.10/dist-packages (from easyocr) (0.23.2)\n",
            "Collecting python-bidi (from easyocr)\n",
            "  Downloading python_bidi-0.6.0-cp310-cp310-manylinux_2_17_x86_64.manylinux2014_x86_64.whl.metadata (4.6 kB)\n",
            "Requirement already satisfied: PyYAML in /usr/local/lib/python3.10/dist-packages (from easyocr) (6.0.2)\n",
            "Requirement already satisfied: Shapely in /usr/local/lib/python3.10/dist-packages (from easyocr) (2.0.6)\n",
            "Requirement already satisfied: pyclipper in /usr/local/lib/python3.10/dist-packages (from easyocr) (1.3.0.post5)\n",
            "Collecting ninja (from easyocr)\n",
            "  Downloading ninja-1.11.1.1-py2.py3-none-manylinux1_x86_64.manylinux_2_5_x86_64.whl.metadata (5.3 kB)\n",
            "Requirement already satisfied: filelock in /usr/local/lib/python3.10/dist-packages (from torch->easyocr) (3.16.0)\n",
            "Requirement already satisfied: typing-extensions>=4.8.0 in /usr/local/lib/python3.10/dist-packages (from torch->easyocr) (4.12.2)\n",
            "Requirement already satisfied: sympy in /usr/local/lib/python3.10/dist-packages (from torch->easyocr) (1.13.2)\n",
            "Requirement already satisfied: networkx in /usr/local/lib/python3.10/dist-packages (from torch->easyocr) (3.3)\n",
            "Requirement already satisfied: jinja2 in /usr/local/lib/python3.10/dist-packages (from torch->easyocr) (3.1.4)\n",
            "Requirement already satisfied: fsspec in /usr/local/lib/python3.10/dist-packages (from torch->easyocr) (2024.6.1)\n",
            "Requirement already satisfied: imageio>=2.33 in /usr/local/lib/python3.10/dist-packages (from scikit-image->easyocr) (2.34.2)\n",
            "Requirement already satisfied: tifffile>=2022.8.12 in /usr/local/lib/python3.10/dist-packages (from scikit-image->easyocr) (2024.8.30)\n",
            "Requirement already satisfied: packaging>=21 in /usr/local/lib/python3.10/dist-packages (from scikit-image->easyocr) (24.1)\n",
            "Requirement already satisfied: lazy-loader>=0.4 in /usr/local/lib/python3.10/dist-packages (from scikit-image->easyocr) (0.4)\n",
            "Requirement already satisfied: MarkupSafe>=2.0 in /usr/local/lib/python3.10/dist-packages (from jinja2->torch->easyocr) (2.1.5)\n",
            "Requirement already satisfied: mpmath<1.4,>=1.1.0 in /usr/local/lib/python3.10/dist-packages (from sympy->torch->easyocr) (1.3.0)\n",
            "Downloading easyocr-1.7.1-py3-none-any.whl (2.9 MB)\n",
            "\u001b[2K   \u001b[90m━━━━━━━━━━━━━━━━━━━━━━━━━━━━━━━━━━━━━━━━\u001b[0m \u001b[32m2.9/2.9 MB\u001b[0m \u001b[31m10.8 MB/s\u001b[0m eta \u001b[36m0:00:00\u001b[0m\n",
            "\u001b[?25hDownloading ninja-1.11.1.1-py2.py3-none-manylinux1_x86_64.manylinux_2_5_x86_64.whl (307 kB)\n",
            "\u001b[2K   \u001b[90m━━━━━━━━━━━━━━━━━━━━━━━━━━━━━━━━━━━━━━━━\u001b[0m \u001b[32m307.2/307.2 kB\u001b[0m \u001b[31m21.9 MB/s\u001b[0m eta \u001b[36m0:00:00\u001b[0m\n",
            "\u001b[?25hDownloading python_bidi-0.6.0-cp310-cp310-manylinux_2_17_x86_64.manylinux2014_x86_64.whl (281 kB)\n",
            "\u001b[2K   \u001b[90m━━━━━━━━━━━━━━━━━━━━━━━━━━━━━━━━━━━━━━━━\u001b[0m \u001b[32m281.3/281.3 kB\u001b[0m \u001b[31m18.5 MB/s\u001b[0m eta \u001b[36m0:00:00\u001b[0m\n",
            "\u001b[?25hInstalling collected packages: python-bidi, ninja, easyocr\n",
            "Successfully installed easyocr-1.7.1 ninja-1.11.1.1 python-bidi-0.6.0\n"
          ]
        }
      ],
      "source": [
        "!pip install easyocr"
      ]
    },
    {
      "cell_type": "code",
      "execution_count": 2,
      "metadata": {
        "id": "CLZfqRnMIbUt"
      },
      "outputs": [],
      "source": [
        "import numpy as np\n",
        "import requests\n",
        "from PIL import Image\n",
        "from io import BytesIO\n",
        "from tqdm import tqdm\n",
        "from concurrent.futures import ThreadPoolExecutor\n",
        "import easyocr  # EasyOCR uses PyTorch under the hood for GPU acceleration\n",
        "import torch\n",
        "import os\n",
        "import pandas as pd"
      ]
    },
    {
      "cell_type": "code",
      "execution_count": 3,
      "metadata": {
        "colab": {
          "base_uri": "https://localhost:8080/"
        },
        "id": "xo7qw8kRIfnb",
        "outputId": "33258ca7-445b-49bf-bda2-4e7bd44c3b05"
      },
      "outputs": [
        {
          "name": "stderr",
          "output_type": "stream",
          "text": [
            "WARNING:easyocr.easyocr:Using CPU. Note: This module is much faster with a GPU.\n",
            "/usr/local/lib/python3.10/dist-packages/easyocr/detection.py:78: FutureWarning: You are using `torch.load` with `weights_only=False` (the current default value), which uses the default pickle module implicitly. It is possible to construct malicious pickle data which will execute arbitrary code during unpickling (See https://github.com/pytorch/pytorch/blob/main/SECURITY.md#untrusted-models for more details). In a future release, the default value for `weights_only` will be flipped to `True`. This limits the functions that could be executed during unpickling. Arbitrary objects will no longer be allowed to be loaded via this mode unless they are explicitly allowlisted by the user via `torch.serialization.add_safe_globals`. We recommend you start setting `weights_only=True` for any use case where you don't have full control of the loaded file. Please open an issue on GitHub for any issues related to this experimental feature.\n",
            "  net.load_state_dict(copyStateDict(torch.load(trained_model, map_location=device)))\n",
            "/usr/local/lib/python3.10/dist-packages/easyocr/recognition.py:169: FutureWarning: You are using `torch.load` with `weights_only=False` (the current default value), which uses the default pickle module implicitly. It is possible to construct malicious pickle data which will execute arbitrary code during unpickling (See https://github.com/pytorch/pytorch/blob/main/SECURITY.md#untrusted-models for more details). In a future release, the default value for `weights_only` will be flipped to `True`. This limits the functions that could be executed during unpickling. Arbitrary objects will no longer be allowed to be loaded via this mode unless they are explicitly allowlisted by the user via `torch.serialization.add_safe_globals`. We recommend you start setting `weights_only=True` for any use case where you don't have full control of the loaded file. Please open an issue on GitHub for any issues related to this experimental feature.\n",
            "  state_dict = torch.load(model_path, map_location=device)\n"
          ]
        }
      ],
      "source": [
        "device = 'cuda' if torch.cuda.is_available() else 'cpu'\n",
        "reader = easyocr.Reader(['en'], gpu=(device == 'cuda'))  # Use GPU if available"
      ]
    },
    {
      "cell_type": "code",
      "execution_count": 4,
      "metadata": {
        "colab": {
          "base_uri": "https://localhost:8080/"
        },
        "id": "bt2VCrEmL25n",
        "outputId": "21d8baa1-56fd-49ba-d20d-90802bc16871"
      },
      "outputs": [
        {
          "name": "stdout",
          "output_type": "stream",
          "text": [
            "Drive already mounted at /content/drive; to attempt to forcibly remount, call drive.mount(\"/content/drive\", force_remount=True).\n"
          ]
        }
      ],
      "source": [
        "from google.colab import drive\n",
        "drive.mount('/content/drive')"
      ]
    },
    {
      "cell_type": "code",
      "execution_count": 5,
      "metadata": {
        "id": "2WrNsPirImMH"
      },
      "outputs": [],
      "source": [
        "# Function to load image from URL\n",
        "def load_image_from_url(url):\n",
        "    try:\n",
        "        response = requests.get(url, timeout=10)\n",
        "        image = Image.open(BytesIO(response.content))\n",
        "        image_np = np.array(image)\n",
        "        return image_np\n",
        "    except Exception as e:\n",
        "        print(f\"Failed to load image from {url}: {e}\")\n",
        "        return None\n",
        "\n",
        "# Function to process a single image and extract text using EasyOCR\n",
        "def process_image(image_link):\n",
        "    img = load_image_from_url(image_link)\n",
        "    if img is not None:\n",
        "        # EasyOCR accepts file paths or numpy arrays\n",
        "        result = reader.readtext(img)\n",
        "        finaltext = ' '.join([text[1] for text in result])  # Extract text from OCR result\n",
        "        return image_link, finaltext\n",
        "    return image_link, ''  # Return empty text if the image failed to load\n",
        "\n",
        "# Function to save checkpoint\n",
        "def save_checkpoint(df, batch_number, checkpoint_dir='/content/drive/My Drive/checkpoints/'):\n",
        "    # if not os.path.exists(checkpoint_dir):\n",
        "    #     os.makedirs(checkpoint_dir)\n",
        "    checkpoint_path = os.path.join(checkpoint_dir, f'checkpoint_batch_{batch_number}.csv')\n",
        "    df.to_csv(checkpoint_path, index=False)\n",
        "    print(f\"Checkpoint saved: {checkpoint_path}\")\n",
        "\n",
        "# Function to process images in parallel\n",
        "def process_images_in_parallel(image_links, max_workers=10):\n",
        "    linkd = {}\n",
        "    with ThreadPoolExecutor(max_workers=max_workers) as executor:\n",
        "        # Use a ThreadPool to parallelize processing\n",
        "        results = list(tqdm(executor.map(process_image, image_links), total=len(image_links), desc=\"Processing images\"))\n",
        "\n",
        "    # Collect results into a dictionary\n",
        "    for image_link, text in results:\n",
        "        linkd[image_link] = text\n",
        "    return linkd"
      ]
    },
    {
      "cell_type": "code",
      "execution_count": 6,
      "metadata": {
        "id": "MYIwnt-uI0RQ"
      },
      "outputs": [],
      "source": [
        "# Main processing function with checkpointing\n",
        "def main(df, checkpoint_dir='/content/drive/My Drive/checkpoints/', max_workers=10, batch_size=2000):\n",
        "    # Ensure unique image links\n",
        "    unique_image_links = df['image_link'].unique()\n",
        "\n",
        "    # Load the last checkpoint (if it exists)\n",
        "    checkpoint_files = sorted([f for f in os.listdir(checkpoint_dir) if f.startswith('checkpoint_batch_')])\n",
        "    last_batch_processed = 0\n",
        "\n",
        "    if checkpoint_files:\n",
        "        last_checkpoint_file = checkpoint_files[-1]\n",
        "        last_batch_processed = int(last_checkpoint_file.split('_')[-1].replace('.csv', ''))\n",
        "        print(f\"Resuming from checkpoint: {last_checkpoint_file}\")\n",
        "        df = pd.read_csv(os.path.join(checkpoint_dir, last_checkpoint_file))\n",
        "\n",
        "    linkd = {}\n",
        "\n",
        "     # Process images in batches, starting from the last checkpoint\n",
        "    for i in range(last_batch_processed + 1, len(unique_image_links), batch_size):\n",
        "        batch_links = unique_image_links[i:i+batch_size]\n",
        "        batch_result = process_images_in_parallel(batch_links, max_workers=max_workers)\n",
        "        df['description'].update(pd.Series(batch_result))  # Update df with new descriptions\n",
        "\n",
        "        # Save progress after each batch\n",
        "        save_checkpoint(df, i, checkpoint_dir=checkpoint_dir)\n",
        "\n",
        "    return df"
      ]
    },
    {
      "cell_type": "code",
      "execution_count": 7,
      "metadata": {
        "id": "K2dipBReJ6CS"
      },
      "outputs": [],
      "source": [
        "df= pd.read_csv('/content/train.csv')"
      ]
    },
    {
      "cell_type": "code",
      "execution_count": 8,
      "metadata": {
        "id": "fcDP8GJ-KJ5R"
      },
      "outputs": [],
      "source": [
        "import time\n",
        "start_time= time.time()"
      ]
    },
    {
      "cell_type": "code",
      "execution_count": 9,
      "metadata": {
        "colab": {
          "base_uri": "https://localhost:8080/"
        },
        "id": "oUIri8pOMTDm",
        "outputId": "bfd5155a-db18-4807-aa02-e7a9faa692a2"
      },
      "outputs": [
        {
          "name": "stdout",
          "output_type": "stream",
          "text": [
            " 09-2-M2020-CP-Functions-More.pptx\n",
            "'ACS- Unit 4 - Part 2 - slides (1).gdoc'\n",
            "'ACS- Unit 4 - Part 2 - slides (1).pdf'\n",
            "'ADA class on 25.02.22 at 2-3 PM (rko-vkwd-kcp - Feb 25, 2022).gdoc'\n",
            " ada.docx\n",
            " ada.zip\n",
            " Assessment.gform\n",
            " avlsi.docx\n",
            " avlsi_try1.gdoc\n",
            " avlsi_try2.gdoc\n",
            " B2_U2_Assignment_S20210020265.docx\n",
            "'Batch 29.pdf'\n",
            "'Batch 29.zip'\n",
            " bhavya.docx\n",
            "'Bird Strikes data.xlsx - Bird Strikes.csv'\n",
            "'CCN ASSIGNMENT.pdf'\n",
            "'ccn.cpp - cpp - Visual Studio Code 2023-04-14 10-38-34.mp4'\n",
            " certificate.pdf\n",
            " checkpoints\n",
            " ChrisAryan_S20210020265_assn1.ipynb\n",
            "'CHRIS ARYAN S20210020265 OCW LAB.docx'\n",
            " chriscv.pdf\n",
            "'Chris_resume (1).pdf'\n",
            " Chris_resume.pdf\n",
            "'Chris_S20210020265 (1).pdf'\n",
            "'Chris_S20210020265 (2).pdf'\n",
            " Chris_S20210020265.pdf\n",
            " Classroom\n",
            "'Colab Notebooks'\n",
            "'Copy of Mutual_Consent_form_BTP.docx'\n",
            "'Copy of Mutual_Consent_form_BTP.gdoc'\n",
            " data\n",
            " DIP_assn1.ipynb\n",
            "'EEN_A1_S20210020265_Chris Aryan.pdf'\n",
            "'EEN_A2_S20210020265_Chris Aryan.pdf'\n",
            "'EXPERIMENT 2.pdf'\n",
            "'EXPERIMENT 5 HDL.pdf'\n",
            " Extraction_data_2023_august_to_december\n",
            "'Fee Circular for Semester_Monsoon 2024_UG4_Admitted in 2021 year.gdoc'\n",
            "'Fee Circular for Semester_Monsoon 2024_UG4_Admitted in 2021 year.pdf'\n",
            "'Financial Analytics data.gsheet'\n",
            " Group4_mbsa.zip\n",
            " Group4_S20210020265_S20210020289_Project_Report.pdf\n",
            " Group4.zip\n",
            " HDL_assn2.pdf\n",
            "'HDL EXP 0.pdf'\n",
            " IMG20240515081112.jpg\n",
            "'ISassn .ipynb'\n",
            "'M4 - Tutorial8 - Recursion in C.pptx'\n",
            "'M4 - Tutorial - Functions.pptx'\n",
            " Mehul_Reumse_61.pdf\n",
            "'mycv (1) (1).pdf'\n",
            "'mycv (1).pdf'\n",
            "'mycv (2).pdf'\n",
            "'mycv (3).pdf'\n",
            " mycv.pdf\n",
            "'nhs-oqeg-ixz - Feb 8, 2024.gjam'\n",
            " OBPROJECT.pdf\n",
            "'OCW class assignment.docx'\n",
            "'Ocw lab-02.docx'\n",
            " pds.docx\n",
            "'Practice Problems-Loops and Arrays.gdoc'\n",
            "'Resume (1).pdf'\n",
            " road_safety\n",
            "'S20210020265 (1).pdf'\n",
            "'S20210020265 (2) (1).pdf'\n",
            "'S20210020265 (2).docx'\n",
            "'S20210020265 (2).pdf'\n",
            "'S20210020265 (3).pdf'\n",
            "'S20210020265 (4).pdf'\n",
            " S20210020265_AC_ASSIGNMENT.zip\n",
            " S20210020265ASSNEVAL1.docx\n",
            " S20210020265-B7.pdf\n",
            " S20210020265_BATCH-3.pdf\n",
            " S20210020265_Chris_Aryan_B1.circ\n",
            "'S20210020265_Chris Aryan_B1.pdf'\n",
            " S20210020265_Chris_DSMA_Endsem.pdf\n",
            " S20210020265_CHRIS_DSMA_MIDSEM.pdf\n",
            " S20210020265_EXP3_HDL.pdf\n",
            "'S20210020265_exp6 (1).pdf'\n",
            " S20210020265_exp6.pdf\n",
            " S20210020265.jpeg\n",
            " S20210020265_LAB_6.pdf\n",
            " S20210020265_OCW_END_EXAM.pdf\n",
            " S20210020265.pdf\n",
            "'S20210020265_SET 7.pdf'\n",
            "'S20210020265_SS_LAB-3 REPORT.pdf'\n",
            " S20210020265_SS_LAB-5.pdf\n",
            " S20210020265_SS_Lab8_SecB.pdf\n",
            " S20210020265_SS_LAB_ASSIGNMENT.pdf\n",
            " S20210020265_SS_LABREPORT.docx\n",
            "'S20210020265_SS_SecB (1).pdf'\n",
            "'S20210020265_SS_SecB (2).pdf'\n",
            " S20210020265_SS_SecB.pdf\n",
            " S20210020265_SS_SEC_B.pdf\n",
            " Team2FinalEval.mp4\n",
            " UNDERTAKING.pdf\n",
            " video_resume.mp4\n"
          ]
        }
      ],
      "source": [
        "!ls /content/drive/My\\ Drive"
      ]
    },
    {
      "cell_type": "code",
      "execution_count": 10,
      "metadata": {
        "colab": {
          "base_uri": "https://localhost:8080/"
        },
        "id": "t-RZwtjQMgH3",
        "outputId": "5872f4d0-6612-4f6a-9dfb-8cba4860925a"
      },
      "outputs": [
        {
          "name": "stdout",
          "output_type": "stream",
          "text": [
            "Directory already exists: /content/drive/My Drive/checkpoints/\n"
          ]
        }
      ],
      "source": [
        "checkpoint_dir = '/content/drive/My Drive/checkpoints/'\n",
        "\n",
        "# Check if the directory exists, if not, create it\n",
        "if not os.path.exists(checkpoint_dir):\n",
        "    os.makedirs(checkpoint_dir)\n",
        "    print(f\"Created directory: {checkpoint_dir}\")\n",
        "else:\n",
        "    print(f\"Directory already exists: {checkpoint_dir}\")\n"
      ]
    },
    {
      "cell_type": "code",
      "execution_count": 29,
      "metadata": {
        "colab": {
          "base_uri": "https://localhost:8080/"
        },
        "id": "ibM0hT33MxPe",
        "outputId": "960f0768-329e-4e02-8692-b8a23d7ca16a"
      },
      "outputs": [
        {
          "name": "stdout",
          "output_type": "stream",
          "text": [
            " 09-2-M2020-CP-Functions-More.pptx\n",
            "'ACS- Unit 4 - Part 2 - slides (1).gdoc'\n",
            "'ACS- Unit 4 - Part 2 - slides (1).pdf'\n",
            "'ADA class on 25.02.22 at 2-3 PM (rko-vkwd-kcp - Feb 25, 2022).gdoc'\n",
            " ada.docx\n",
            " ada.zip\n",
            " Assessment.gform\n",
            " avlsi.docx\n",
            " avlsi_try1.gdoc\n",
            " avlsi_try2.gdoc\n",
            " B2_U2_Assignment_S20210020265.docx\n",
            "'Batch 29.pdf'\n",
            "'Batch 29.zip'\n",
            " bhavya.docx\n",
            "'Bird Strikes data.xlsx - Bird Strikes.csv'\n",
            "'CCN ASSIGNMENT.pdf'\n",
            "'ccn.cpp - cpp - Visual Studio Code 2023-04-14 10-38-34.mp4'\n",
            " certificate.pdf\n",
            " checkpoints\n",
            " ChrisAryan_S20210020265_assn1.ipynb\n",
            "'CHRIS ARYAN S20210020265 OCW LAB.docx'\n",
            " chriscv.pdf\n",
            "'Chris_resume (1).pdf'\n",
            " Chris_resume.pdf\n",
            "'Chris_S20210020265 (1).pdf'\n",
            "'Chris_S20210020265 (2).pdf'\n",
            " Chris_S20210020265.pdf\n",
            " Classroom\n",
            "'Colab Notebooks'\n",
            "'Copy of Mutual_Consent_form_BTP.docx'\n",
            "'Copy of Mutual_Consent_form_BTP.gdoc'\n",
            " data\n",
            " DIP_assn1.ipynb\n",
            "'EEN_A1_S20210020265_Chris Aryan.pdf'\n",
            "'EEN_A2_S20210020265_Chris Aryan.pdf'\n",
            "'EXPERIMENT 2.pdf'\n",
            "'EXPERIMENT 5 HDL.pdf'\n",
            " Extraction_data_2023_august_to_december\n",
            "'Fee Circular for Semester_Monsoon 2024_UG4_Admitted in 2021 year.gdoc'\n",
            "'Fee Circular for Semester_Monsoon 2024_UG4_Admitted in 2021 year.pdf'\n",
            "'Financial Analytics data.gsheet'\n",
            " Group4_mbsa.zip\n",
            " Group4_S20210020265_S20210020289_Project_Report.pdf\n",
            " Group4.zip\n",
            " HDL_assn2.pdf\n",
            "'HDL EXP 0.pdf'\n",
            " IMG20240515081112.jpg\n",
            "'ISassn .ipynb'\n",
            "'M4 - Tutorial8 - Recursion in C.pptx'\n",
            "'M4 - Tutorial - Functions.pptx'\n",
            " Mehul_Reumse_61.pdf\n",
            "'mycv (1) (1).pdf'\n",
            "'mycv (1).pdf'\n",
            "'mycv (2).pdf'\n",
            "'mycv (3).pdf'\n",
            " mycv.pdf\n",
            "'nhs-oqeg-ixz - Feb 8, 2024.gjam'\n",
            " OBPROJECT.pdf\n",
            "'OCW class assignment.docx'\n",
            "'Ocw lab-02.docx'\n",
            " pds.docx\n",
            "'Practice Problems-Loops and Arrays.gdoc'\n",
            "'Resume (1).pdf'\n",
            " road_safety\n",
            "'S20210020265 (1).pdf'\n",
            "'S20210020265 (2) (1).pdf'\n",
            "'S20210020265 (2).docx'\n",
            "'S20210020265 (2).pdf'\n",
            "'S20210020265 (3).pdf'\n",
            "'S20210020265 (4).pdf'\n",
            " S20210020265_AC_ASSIGNMENT.zip\n",
            " S20210020265ASSNEVAL1.docx\n",
            " S20210020265-B7.pdf\n",
            " S20210020265_BATCH-3.pdf\n",
            " S20210020265_Chris_Aryan_B1.circ\n",
            "'S20210020265_Chris Aryan_B1.pdf'\n",
            " S20210020265_Chris_DSMA_Endsem.pdf\n",
            " S20210020265_CHRIS_DSMA_MIDSEM.pdf\n",
            " S20210020265_EXP3_HDL.pdf\n",
            "'S20210020265_exp6 (1).pdf'\n",
            " S20210020265_exp6.pdf\n",
            " S20210020265.jpeg\n",
            " S20210020265_LAB_6.pdf\n",
            " S20210020265_OCW_END_EXAM.pdf\n",
            " S20210020265.pdf\n",
            "'S20210020265_SET 7.pdf'\n",
            "'S20210020265_SS_LAB-3 REPORT.pdf'\n",
            " S20210020265_SS_LAB-5.pdf\n",
            " S20210020265_SS_Lab8_SecB.pdf\n",
            " S20210020265_SS_LAB_ASSIGNMENT.pdf\n",
            " S20210020265_SS_LABREPORT.docx\n",
            "'S20210020265_SS_SecB (1).pdf'\n",
            "'S20210020265_SS_SecB (2).pdf'\n",
            " S20210020265_SS_SecB.pdf\n",
            " S20210020265_SS_SEC_B.pdf\n",
            " Team2FinalEval.mp4\n",
            " UNDERTAKING.pdf\n",
            " video_resume.mp4\n"
          ]
        }
      ],
      "source": [
        "!ls /content/drive/My\\ Drive"
      ]
    },
    {
      "cell_type": "code",
      "execution_count": null,
      "metadata": {
        "colab": {
          "base_uri": "https://localhost:8080/"
        },
        "id": "mvF4qlERKOHE",
        "outputId": "9862c2d0-e3ae-44c5-b3c3-0c13b9ed13cc"
      },
      "outputs": [
        {
          "name": "stderr",
          "output_type": "stream",
          "text": [
            "\rProcessing images:   0%|          | 0/2000 [00:00<?, ?it/s]"
          ]
        }
      ],
      "source": [
        "df = main(df, max_workers=10, batch_size=2000)  # Adjust `max_workers` and `batch_size` based on system's resources\n",
        "print(f\"Completed processing in {time.time() - start_time} seconds\")\n",
        "df.head()"
      ]
    },
    {
      "cell_type": "code",
      "execution_count": null,
      "metadata": {
        "id": "LeV-Gi28KjOu"
      },
      "outputs": [],
      "source": []
    }
  ],
  "metadata": {
    "colab": {
      "provenance": []
    },
    "kernelspec": {
      "display_name": "Python 3",
      "name": "python3"
    },
    "language_info": {
      "name": "python"
    }
  },
  "nbformat": 4,
  "nbformat_minor": 0
}
